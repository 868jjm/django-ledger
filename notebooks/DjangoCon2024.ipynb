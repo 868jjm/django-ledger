{
 "cells": [
  {
   "cell_type": "code",
   "metadata": {
    "tags": [],
    "ExecuteTime": {
     "end_time": "2024-08-22T18:49:56.866881Z",
     "start_time": "2024-08-22T18:49:56.422617Z"
    }
   },
   "source": [
    "import os\n",
    "from datetime import date, datetime\n",
    "from zoneinfo import ZoneInfo\n",
    "from typing import List, Dict, Tuple, Optional, Union\n",
    "from decimal import Decimal\n",
    "\n",
    "import django\n",
    "# for easier visualization it is recommended to use pandas to render data...\n",
    "# if pandas is not installed, you may install it with this command: pip install -U pandas\n",
    "# pandas is not a dependency of django_ledger...\n",
    "import pandas as pd\n",
    "\n",
    "# Set your django settings module if needed...\n",
    "os.environ['DJANGO_SETTINGS_MODULE'] = 'dev_env.settings'\n",
    "\n",
    "# if using jupyter notebook need to set DJANGO_ALLOW_ASYNC_UNSAFE as \"true\"\n",
    "os.environ['DJANGO_ALLOW_ASYNC_UNSAFE'] = 'true'\n",
    "\n",
    "# change your working directory as needed...\n",
    "os.chdir('../')\n",
    "\n",
    "django.setup()\n",
    "\n",
    "from django_ledger.models.entity import EntityModel\n",
    "from django.contrib.auth import get_user_model\n",
    "from django_ledger.io import roles"
   ],
   "outputs": [],
   "execution_count": 1
  },
  {
   "cell_type": "markdown",
   "metadata": {},
   "source": [
    "# Get Your Entity Administrator UserModel"
   ]
  },
  {
   "cell_type": "code",
   "metadata": {
    "tags": [],
    "ExecuteTime": {
     "end_time": "2024-08-22T18:49:56.876292Z",
     "start_time": "2024-08-22T18:49:56.870160Z"
    }
   },
   "source": [
    "# change this to your preferred django username...\n",
    "MY_USERNAME = 'ceo_user'\n",
    "MY_PASSWORD = 'NeverUseMe|VeryInsecure!'\n",
    "UserModel = get_user_model()\n",
    "\n",
    "try:\n",
    "    user_model = UserModel.objects.get(username__exact=MY_USERNAME)\n",
    "except:\n",
    "    user_model = UserModel(username=MY_USERNAME)\n",
    "    user_model.set_password(MY_PASSWORD)\n",
    "    user_model.save()"
   ],
   "outputs": [],
   "execution_count": 2
  },
  {
   "cell_type": "markdown",
   "metadata": {},
   "source": "# Get or Create an Entity Model"
  },
  {
   "cell_type": "code",
   "metadata": {
    "tags": [],
    "ExecuteTime": {
     "end_time": "2024-08-22T18:49:56.939207Z",
     "start_time": "2024-08-22T18:49:56.930754Z"
    }
   },
   "source": [
    "from django_ledger.models.entity import EntityModel\n",
    "\n",
    "ENTITY_NAME = 'One Big Company, LLC'\n",
    "\n",
    "entity_model = EntityModel.create_entity(\n",
    "    name=ENTITY_NAME,\n",
    "    admin=user_model,\n",
    "    use_accrual_method=True,\n",
    "    fy_start_month=1\n",
    ")\n",
    "\n",
    "entity_model"
   ],
   "outputs": [
    {
     "data": {
      "text/plain": [
       "<EntityModel: EntityModel one-big-company-llc-bxoqd5wy: One Big Company, LLC>"
      ]
     },
     "execution_count": 3,
     "metadata": {},
     "output_type": "execute_result"
    }
   ],
   "execution_count": 3
  },
  {
   "cell_type": "markdown",
   "metadata": {},
   "source": [
    "# Chart of Accounts"
   ]
  },
  {
   "cell_type": "markdown",
   "metadata": {},
   "source": [
    "## Create a Default Chart of Accounts\n",
    "- Newly created EntityModel do not have a default Code of Accounts yet."
   ]
  },
  {
   "cell_type": "code",
   "metadata": {
    "tags": [],
    "ExecuteTime": {
     "end_time": "2024-08-22T18:49:56.953721Z",
     "start_time": "2024-08-22T18:49:56.951640Z"
    }
   },
   "source": [
    "entity_model.has_default_coa()"
   ],
   "outputs": [
    {
     "data": {
      "text/plain": [
       "False"
      ]
     },
     "execution_count": 4,
     "metadata": {},
     "output_type": "execute_result"
    }
   ],
   "execution_count": 4
  },
  {
   "cell_type": "code",
   "metadata": {
    "tags": [],
    "ExecuteTime": {
     "end_time": "2024-08-22T18:49:57.021064Z",
     "start_time": "2024-08-22T18:49:56.988538Z"
    }
   },
   "source": [
    "default_coa_model = entity_model.create_chart_of_accounts(\n",
    "    assign_as_default=True,\n",
    "    commit=True,\n",
    "    coa_name='My QuickStart CoA'\n",
    ")\n",
    "\n",
    "default_coa_model"
   ],
   "outputs": [
    {
     "data": {
      "text/plain": [
       "<ChartOfAccountModel: My QuickStart CoA (coa-qd5wy-efj64qrkll39u8j)>"
      ]
     },
     "execution_count": 5,
     "metadata": {},
     "output_type": "execute_result"
    }
   ],
   "execution_count": 5
  },
  {
   "cell_type": "code",
   "metadata": {
    "tags": [],
    "ExecuteTime": {
     "end_time": "2024-08-22T18:49:57.039722Z",
     "start_time": "2024-08-22T18:49:57.037191Z"
    }
   },
   "source": [
    "default_coa_model"
   ],
   "outputs": [
    {
     "data": {
      "text/plain": [
       "<ChartOfAccountModel: My QuickStart CoA (coa-qd5wy-efj64qrkll39u8j)>"
      ]
     },
     "execution_count": 6,
     "metadata": {},
     "output_type": "execute_result"
    }
   ],
   "execution_count": 6
  },
  {
   "cell_type": "code",
   "metadata": {
    "collapsed": false,
    "ExecuteTime": {
     "end_time": "2024-08-22T18:49:57.067387Z",
     "start_time": "2024-08-22T18:49:57.065285Z"
    }
   },
   "source": [
    "entity_model.default_coa == default_coa_model"
   ],
   "outputs": [
    {
     "data": {
      "text/plain": [
       "True"
      ]
     },
     "execution_count": 7,
     "metadata": {},
     "output_type": "execute_result"
    }
   ],
   "execution_count": 7
  },
  {
   "cell_type": "markdown",
   "metadata": {},
   "source": [
    "# Populate Entity with Random Data (Optional)"
   ]
  },
  {
   "cell_type": "markdown",
   "metadata": {},
   "source": [
    "### Define a Start Date for Transactions"
   ]
  },
  {
   "cell_type": "code",
   "metadata": {
    "tags": [],
    "ExecuteTime": {
     "end_time": "2024-08-22T18:49:57.087309Z",
     "start_time": "2024-08-22T18:49:57.085520Z"
    }
   },
   "source": [
    "START_DTTM = datetime(year=2022, month=10, day=1, tzinfo=ZoneInfo('UTC'))"
   ],
   "outputs": [],
   "execution_count": 8
  },
  {
   "cell_type": "markdown",
   "metadata": {
    "collapsed": false
   },
   "source": [
    "- This action will populate the EntityModel with random data.\n",
    "- It will populate a Code of Accounts using a default pre-defined list.\n",
    "- This approach is for illustration, educational and testing purposes, not encouraged for new production entities."
   ]
  },
  {
   "cell_type": "code",
   "metadata": {
    "tags": [],
    "ExecuteTime": {
     "end_time": "2024-08-22T18:50:00.663980Z",
     "start_time": "2024-08-22T18:49:57.095797Z"
    }
   },
   "source": [
    "entity_model.populate_random_data(start_date=START_DTTM)"
   ],
   "outputs": [],
   "execution_count": 9
  },
  {
   "cell_type": "markdown",
   "metadata": {},
   "source": [
    "### EntityModel has now a Default Chart of Accounts"
   ]
  },
  {
   "cell_type": "code",
   "metadata": {
    "tags": [],
    "ExecuteTime": {
     "end_time": "2024-08-22T18:50:00.675788Z",
     "start_time": "2024-08-22T18:50:00.673751Z"
    }
   },
   "source": [
    "entity_model.has_default_coa()"
   ],
   "outputs": [
    {
     "data": {
      "text/plain": [
       "True"
      ]
     },
     "execution_count": 10,
     "metadata": {},
     "output_type": "execute_result"
    }
   ],
   "execution_count": 10
  },
  {
   "cell_type": "code",
   "metadata": {
    "tags": [],
    "ExecuteTime": {
     "end_time": "2024-08-22T18:50:00.704192Z",
     "start_time": "2024-08-22T18:50:00.702247Z"
    }
   },
   "source": [
    "default_coa_model = entity_model.get_default_coa()\n",
    "default_coa_model"
   ],
   "outputs": [
    {
     "data": {
      "text/plain": [
       "<ChartOfAccountModel: My QuickStart CoA (coa-qd5wy-efj64qrkll39u8j)>"
      ]
     },
     "execution_count": 11,
     "metadata": {},
     "output_type": "execute_result"
    }
   ],
   "execution_count": 11
  },
  {
   "cell_type": "markdown",
   "metadata": {},
   "source": [
    "# Chart of Accounts (CoA)\n",
    "- A Chart of Accounts is a user-defined list of accounts. \n",
    "- Each Entity Model must have at least one default Chart of Accounts."
   ]
  },
  {
   "cell_type": "markdown",
   "metadata": {},
   "source": [
    "## Django Ledger support multiple chart of accounts."
   ]
  },
  {
   "cell_type": "code",
   "metadata": {
    "tags": [],
    "ExecuteTime": {
     "end_time": "2024-08-22T18:50:00.746431Z",
     "start_time": "2024-08-22T18:50:00.727287Z"
    }
   },
   "source": [
    "another_coa_model = entity_model.create_chart_of_accounts(\n",
    "    assign_as_default=False,\n",
    "    commit=True,\n",
    "    coa_name='My Empty Chart of Accounts'\n",
    ")"
   ],
   "outputs": [],
   "execution_count": 12
  },
  {
   "cell_type": "code",
   "metadata": {
    "collapsed": false,
    "ExecuteTime": {
     "end_time": "2024-08-22T18:50:00.757992Z",
     "start_time": "2024-08-22T18:50:00.755953Z"
    }
   },
   "source": [
    "another_coa_model"
   ],
   "outputs": [
    {
     "data": {
      "text/plain": [
       "<ChartOfAccountModel: My Empty Chart of Accounts (coa-qd5wy-gm20uicgnbmss8u)>"
      ]
     },
     "execution_count": 13,
     "metadata": {},
     "output_type": "execute_result"
    }
   ],
   "execution_count": 13
  },
  {
   "cell_type": "markdown",
   "metadata": {},
   "source": [
    "# Accounts"
   ]
  },
  {
   "cell_type": "markdown",
   "metadata": {
    "collapsed": false
   },
   "source": [
    "## Default CoA Accounts"
   ]
  },
  {
   "cell_type": "code",
   "metadata": {
    "tags": [],
    "ExecuteTime": {
     "end_time": "2024-08-22T18:50:00.796519Z",
     "start_time": "2024-08-22T18:50:00.786988Z"
    }
   },
   "source": [
    "default_coa_accounts_qs = entity_model.get_default_coa_accounts()\n",
    "pd.DataFrame(default_coa_accounts_qs)"
   ],
   "outputs": [
    {
     "data": {
      "text/plain": [
       "                                                    0\n",
       "0           ASSETS - 1010: Cash (ASSET_CA_CASH/debit)\n",
       "1   ASSETS - 1050: Short Term Investments (ASSET_C...\n",
       "2   ASSETS - 1100: Accounts Receivable (ASSET_CA_R...\n",
       "3   ASSETS - 1110: Uncollectibles (ASSET_CA_UNCOLL...\n",
       "4       ASSETS - 1200: Inventory (ASSET_CA_INV/debit)\n",
       "..                                                ...\n",
       "83          EQUITY - 6294: Garbage (EX_REGULAR/debit)\n",
       "84      EQUITY - 6295: Electricity (EX_REGULAR/debit)\n",
       "85  EQUITY - 6300: Property Management (EX_REGULAR...\n",
       "86          EQUITY - 6400: Vacancy (EX_REGULAR/debit)\n",
       "87      EQUITY - 6500: Misc. Expense (EX_OTHER/debit)\n",
       "\n",
       "[88 rows x 1 columns]"
      ],
      "text/html": [
       "<div>\n",
       "<style scoped>\n",
       "    .dataframe tbody tr th:only-of-type {\n",
       "        vertical-align: middle;\n",
       "    }\n",
       "\n",
       "    .dataframe tbody tr th {\n",
       "        vertical-align: top;\n",
       "    }\n",
       "\n",
       "    .dataframe thead th {\n",
       "        text-align: right;\n",
       "    }\n",
       "</style>\n",
       "<table border=\"1\" class=\"dataframe\">\n",
       "  <thead>\n",
       "    <tr style=\"text-align: right;\">\n",
       "      <th></th>\n",
       "      <th>0</th>\n",
       "    </tr>\n",
       "  </thead>\n",
       "  <tbody>\n",
       "    <tr>\n",
       "      <th>0</th>\n",
       "      <td>ASSETS - 1010: Cash (ASSET_CA_CASH/debit)</td>\n",
       "    </tr>\n",
       "    <tr>\n",
       "      <th>1</th>\n",
       "      <td>ASSETS - 1050: Short Term Investments (ASSET_C...</td>\n",
       "    </tr>\n",
       "    <tr>\n",
       "      <th>2</th>\n",
       "      <td>ASSETS - 1100: Accounts Receivable (ASSET_CA_R...</td>\n",
       "    </tr>\n",
       "    <tr>\n",
       "      <th>3</th>\n",
       "      <td>ASSETS - 1110: Uncollectibles (ASSET_CA_UNCOLL...</td>\n",
       "    </tr>\n",
       "    <tr>\n",
       "      <th>4</th>\n",
       "      <td>ASSETS - 1200: Inventory (ASSET_CA_INV/debit)</td>\n",
       "    </tr>\n",
       "    <tr>\n",
       "      <th>...</th>\n",
       "      <td>...</td>\n",
       "    </tr>\n",
       "    <tr>\n",
       "      <th>83</th>\n",
       "      <td>EQUITY - 6294: Garbage (EX_REGULAR/debit)</td>\n",
       "    </tr>\n",
       "    <tr>\n",
       "      <th>84</th>\n",
       "      <td>EQUITY - 6295: Electricity (EX_REGULAR/debit)</td>\n",
       "    </tr>\n",
       "    <tr>\n",
       "      <th>85</th>\n",
       "      <td>EQUITY - 6300: Property Management (EX_REGULAR...</td>\n",
       "    </tr>\n",
       "    <tr>\n",
       "      <th>86</th>\n",
       "      <td>EQUITY - 6400: Vacancy (EX_REGULAR/debit)</td>\n",
       "    </tr>\n",
       "    <tr>\n",
       "      <th>87</th>\n",
       "      <td>EQUITY - 6500: Misc. Expense (EX_OTHER/debit)</td>\n",
       "    </tr>\n",
       "  </tbody>\n",
       "</table>\n",
       "<p>88 rows × 1 columns</p>\n",
       "</div>"
      ]
     },
     "execution_count": 14,
     "metadata": {},
     "output_type": "execute_result"
    }
   ],
   "execution_count": 14
  },
  {
   "cell_type": "markdown",
   "metadata": {},
   "source": [
    "## Get CoA Accounts by CoA Model"
   ]
  },
  {
   "cell_type": "code",
   "metadata": {
    "tags": [],
    "ExecuteTime": {
     "end_time": "2024-08-22T18:50:00.839954Z",
     "start_time": "2024-08-22T18:50:00.831879Z"
    }
   },
   "source": [
    "coa_accounts_by_coa_model_qs = entity_model.get_coa_accounts(coa_model=default_coa_model)\n",
    "pd.DataFrame(coa_accounts_by_coa_model_qs)"
   ],
   "outputs": [
    {
     "data": {
      "text/plain": [
       "                                                    0\n",
       "0           ASSETS - 1010: Cash (ASSET_CA_CASH/debit)\n",
       "1   ASSETS - 1050: Short Term Investments (ASSET_C...\n",
       "2   ASSETS - 1100: Accounts Receivable (ASSET_CA_R...\n",
       "3   ASSETS - 1110: Uncollectibles (ASSET_CA_UNCOLL...\n",
       "4       ASSETS - 1200: Inventory (ASSET_CA_INV/debit)\n",
       "..                                                ...\n",
       "83          EQUITY - 6294: Garbage (EX_REGULAR/debit)\n",
       "84      EQUITY - 6295: Electricity (EX_REGULAR/debit)\n",
       "85  EQUITY - 6300: Property Management (EX_REGULAR...\n",
       "86          EQUITY - 6400: Vacancy (EX_REGULAR/debit)\n",
       "87      EQUITY - 6500: Misc. Expense (EX_OTHER/debit)\n",
       "\n",
       "[88 rows x 1 columns]"
      ],
      "text/html": [
       "<div>\n",
       "<style scoped>\n",
       "    .dataframe tbody tr th:only-of-type {\n",
       "        vertical-align: middle;\n",
       "    }\n",
       "\n",
       "    .dataframe tbody tr th {\n",
       "        vertical-align: top;\n",
       "    }\n",
       "\n",
       "    .dataframe thead th {\n",
       "        text-align: right;\n",
       "    }\n",
       "</style>\n",
       "<table border=\"1\" class=\"dataframe\">\n",
       "  <thead>\n",
       "    <tr style=\"text-align: right;\">\n",
       "      <th></th>\n",
       "      <th>0</th>\n",
       "    </tr>\n",
       "  </thead>\n",
       "  <tbody>\n",
       "    <tr>\n",
       "      <th>0</th>\n",
       "      <td>ASSETS - 1010: Cash (ASSET_CA_CASH/debit)</td>\n",
       "    </tr>\n",
       "    <tr>\n",
       "      <th>1</th>\n",
       "      <td>ASSETS - 1050: Short Term Investments (ASSET_C...</td>\n",
       "    </tr>\n",
       "    <tr>\n",
       "      <th>2</th>\n",
       "      <td>ASSETS - 1100: Accounts Receivable (ASSET_CA_R...</td>\n",
       "    </tr>\n",
       "    <tr>\n",
       "      <th>3</th>\n",
       "      <td>ASSETS - 1110: Uncollectibles (ASSET_CA_UNCOLL...</td>\n",
       "    </tr>\n",
       "    <tr>\n",
       "      <th>4</th>\n",
       "      <td>ASSETS - 1200: Inventory (ASSET_CA_INV/debit)</td>\n",
       "    </tr>\n",
       "    <tr>\n",
       "      <th>...</th>\n",
       "      <td>...</td>\n",
       "    </tr>\n",
       "    <tr>\n",
       "      <th>83</th>\n",
       "      <td>EQUITY - 6294: Garbage (EX_REGULAR/debit)</td>\n",
       "    </tr>\n",
       "    <tr>\n",
       "      <th>84</th>\n",
       "      <td>EQUITY - 6295: Electricity (EX_REGULAR/debit)</td>\n",
       "    </tr>\n",
       "    <tr>\n",
       "      <th>85</th>\n",
       "      <td>EQUITY - 6300: Property Management (EX_REGULAR...</td>\n",
       "    </tr>\n",
       "    <tr>\n",
       "      <th>86</th>\n",
       "      <td>EQUITY - 6400: Vacancy (EX_REGULAR/debit)</td>\n",
       "    </tr>\n",
       "    <tr>\n",
       "      <th>87</th>\n",
       "      <td>EQUITY - 6500: Misc. Expense (EX_OTHER/debit)</td>\n",
       "    </tr>\n",
       "  </tbody>\n",
       "</table>\n",
       "<p>88 rows × 1 columns</p>\n",
       "</div>"
      ]
     },
     "execution_count": 15,
     "metadata": {},
     "output_type": "execute_result"
    }
   ],
   "execution_count": 15
  },
  {
   "cell_type": "markdown",
   "metadata": {
    "collapsed": false
   },
   "source": [
    "No Accounts yet on this CoA..."
   ]
  },
  {
   "cell_type": "code",
   "metadata": {
    "collapsed": false,
    "ExecuteTime": {
     "end_time": "2024-08-22T18:50:00.912701Z",
     "start_time": "2024-08-22T18:50:00.908202Z"
    }
   },
   "source": [
    "coa_accounts_by_coa_model_qs = entity_model.get_coa_accounts(coa_model=another_coa_model)\n",
    "pd.DataFrame(coa_accounts_by_coa_model_qs)"
   ],
   "outputs": [
    {
     "data": {
      "text/plain": [
       "Empty DataFrame\n",
       "Columns: []\n",
       "Index: []"
      ],
      "text/html": [
       "<div>\n",
       "<style scoped>\n",
       "    .dataframe tbody tr th:only-of-type {\n",
       "        vertical-align: middle;\n",
       "    }\n",
       "\n",
       "    .dataframe tbody tr th {\n",
       "        vertical-align: top;\n",
       "    }\n",
       "\n",
       "    .dataframe thead th {\n",
       "        text-align: right;\n",
       "    }\n",
       "</style>\n",
       "<table border=\"1\" class=\"dataframe\">\n",
       "  <thead>\n",
       "    <tr style=\"text-align: right;\">\n",
       "      <th></th>\n",
       "    </tr>\n",
       "  </thead>\n",
       "  <tbody>\n",
       "  </tbody>\n",
       "</table>\n",
       "</div>"
      ]
     },
     "execution_count": 16,
     "metadata": {},
     "output_type": "execute_result"
    }
   ],
   "execution_count": 16
  },
  {
   "cell_type": "markdown",
   "metadata": {},
   "source": [
    "## Get CoA Accounts by CoA Model UUID\n",
    "- May pass UUID instance instead of ChartOF AccountsModel..."
   ]
  },
  {
   "cell_type": "code",
   "metadata": {
    "tags": [],
    "ExecuteTime": {
     "end_time": "2024-08-22T18:50:01.026696Z",
     "start_time": "2024-08-22T18:50:01.024964Z"
    }
   },
   "source": [
    "# coa_accounts_by_coa_uuid_qs = entity_model.get_coa_accounts(coa_model=default_coa_model.uuid)\n",
    "# pd.DataFrame(coa_accounts_by_coa_uuid_qs)"
   ],
   "outputs": [],
   "execution_count": 17
  },
  {
   "cell_type": "markdown",
   "metadata": {},
   "source": [
    "## Get CoA Accounts by CoA Model Slug\n",
    "- If string is passed, will lookup by slug..."
   ]
  },
  {
   "cell_type": "code",
   "metadata": {
    "tags": [],
    "ExecuteTime": {
     "end_time": "2024-08-22T18:50:01.127025Z",
     "start_time": "2024-08-22T18:50:01.125418Z"
    }
   },
   "source": [
    "# coa_accounts_by_coa_slug_qs = entity_model.get_coa_accounts(coa_model=default_coa_model.slug)\n",
    "# pd.DataFrame(coa_accounts_by_coa_slug_qs)"
   ],
   "outputs": [],
   "execution_count": 18
  },
  {
   "cell_type": "markdown",
   "metadata": {},
   "source": [
    "## Get Accounts With Codes and CoA Model\n",
    "- Assumes default CoA if no coa_model is passed..."
   ]
  },
  {
   "cell_type": "code",
   "metadata": {
    "tags": [],
    "ExecuteTime": {
     "end_time": "2024-08-22T18:50:01.154181Z",
     "start_time": "2024-08-22T18:50:01.150405Z"
    }
   },
   "source": [
    "coa_accounts_by_codes_qs = entity_model.get_accounts_with_codes(code_list=['1010', '1050'])\n",
    "pd.DataFrame(coa_accounts_by_codes_qs)"
   ],
   "outputs": [
    {
     "data": {
      "text/plain": [
       "                                                   0\n",
       "0          ASSETS - 1010: Cash (ASSET_CA_CASH/debit)\n",
       "1  ASSETS - 1050: Short Term Investments (ASSET_C..."
      ],
      "text/html": [
       "<div>\n",
       "<style scoped>\n",
       "    .dataframe tbody tr th:only-of-type {\n",
       "        vertical-align: middle;\n",
       "    }\n",
       "\n",
       "    .dataframe tbody tr th {\n",
       "        vertical-align: top;\n",
       "    }\n",
       "\n",
       "    .dataframe thead th {\n",
       "        text-align: right;\n",
       "    }\n",
       "</style>\n",
       "<table border=\"1\" class=\"dataframe\">\n",
       "  <thead>\n",
       "    <tr style=\"text-align: right;\">\n",
       "      <th></th>\n",
       "      <th>0</th>\n",
       "    </tr>\n",
       "  </thead>\n",
       "  <tbody>\n",
       "    <tr>\n",
       "      <th>0</th>\n",
       "      <td>ASSETS - 1010: Cash (ASSET_CA_CASH/debit)</td>\n",
       "    </tr>\n",
       "    <tr>\n",
       "      <th>1</th>\n",
       "      <td>ASSETS - 1050: Short Term Investments (ASSET_C...</td>\n",
       "    </tr>\n",
       "  </tbody>\n",
       "</table>\n",
       "</div>"
      ]
     },
     "execution_count": 19,
     "metadata": {},
     "output_type": "execute_result"
    }
   ],
   "execution_count": 19
  },
  {
   "cell_type": "markdown",
   "metadata": {
    "collapsed": false
   },
   "source": [
    "Empty ChartOfAccountModel..."
   ]
  },
  {
   "cell_type": "code",
   "metadata": {
    "collapsed": false,
    "ExecuteTime": {
     "end_time": "2024-08-22T18:50:01.197453Z",
     "start_time": "2024-08-22T18:50:01.193832Z"
    }
   },
   "source": [
    "coa_accounts_by_codes_qs = entity_model.get_accounts_with_codes(\n",
    "    code_list=['1010', '1050'], \n",
    "    coa_model=another_coa_model\n",
    ")\n",
    "pd.DataFrame(coa_accounts_by_codes_qs)"
   ],
   "outputs": [
    {
     "data": {
      "text/plain": [
       "Empty DataFrame\n",
       "Columns: []\n",
       "Index: []"
      ],
      "text/html": [
       "<div>\n",
       "<style scoped>\n",
       "    .dataframe tbody tr th:only-of-type {\n",
       "        vertical-align: middle;\n",
       "    }\n",
       "\n",
       "    .dataframe tbody tr th {\n",
       "        vertical-align: top;\n",
       "    }\n",
       "\n",
       "    .dataframe thead th {\n",
       "        text-align: right;\n",
       "    }\n",
       "</style>\n",
       "<table border=\"1\" class=\"dataframe\">\n",
       "  <thead>\n",
       "    <tr style=\"text-align: right;\">\n",
       "      <th></th>\n",
       "    </tr>\n",
       "  </thead>\n",
       "  <tbody>\n",
       "  </tbody>\n",
       "</table>\n",
       "</div>"
      ]
     },
     "execution_count": 20,
     "metadata": {},
     "output_type": "execute_result"
    }
   ],
   "execution_count": 20
  },
  {
   "cell_type": "markdown",
   "metadata": {
    "collapsed": false
   },
   "source": [
    "### Get All Accounts at Once"
   ]
  },
  {
   "cell_type": "code",
   "metadata": {
    "collapsed": false,
    "ExecuteTime": {
     "end_time": "2024-08-22T18:50:01.240930Z",
     "start_time": "2024-08-22T18:50:01.235543Z"
    }
   },
   "source": [
    "coa_qs, coa_map = entity_model.get_all_coa_accounts()"
   ],
   "outputs": [],
   "execution_count": 21
  },
  {
   "cell_type": "markdown",
   "metadata": {
    "collapsed": false
   },
   "source": [
    "A dictionary, CoA Model -> Account List."
   ]
  },
  {
   "cell_type": "code",
   "metadata": {
    "collapsed": false,
    "ExecuteTime": {
     "end_time": "2024-08-22T18:50:01.322519Z",
     "start_time": "2024-08-22T18:50:01.318347Z"
    }
   },
   "source": [
    "coa_map"
   ],
   "outputs": [
    {
     "data": {
      "text/plain": [
       "{<ChartOfAccountModel: My Empty Chart of Accounts (coa-qd5wy-gm20uicgnbmss8u)>: <AccountModelQuerySet []>,\n",
       " <ChartOfAccountModel: My QuickStart CoA (coa-qd5wy-efj64qrkll39u8j)>: <AccountModelQuerySet [<AccountModel: ASSETS - 1010: Cash (ASSET_CA_CASH/debit)>, <AccountModel: ASSETS - 1050: Short Term Investments (ASSET_CA_MKT_SEC/debit)>, <AccountModel: ASSETS - 1100: Accounts Receivable (ASSET_CA_RECV/debit)>, <AccountModel: ASSETS - 1110: Uncollectibles (ASSET_CA_UNCOLL/credit)>, <AccountModel: ASSETS - 1200: Inventory (ASSET_CA_INV/debit)>, <AccountModel: ASSETS - 1300: Prepaid Expenses (ASSET_CA_PREPAID/debit)>, <AccountModel: ASSETS - 1510: Notes Receivable (ASSET_LTI_NOTES/debit)>, <AccountModel: ASSETS - 1520: Land (ASSET_LTI_LAND/debit)>, <AccountModel: ASSETS - 1530: Securities (ASSET_LTI_SEC/debit)>, <AccountModel: ASSETS - 1610: Buildings (ASSET_PPE_BUILD/debit)>, <AccountModel: ASSETS - 1611: Less: Buildings Accumulated Depreciation (ASSET_PPE_BUILD_ACCUM_DEPR/credit)>, <AccountModel: ASSETS - 1620: Plant (ASSET_PPE_PLANT/debit)>, <AccountModel: ASSETS - 1621: Less: Plant Accumulated Depreciation (ASSET_PPE_PLANT_DEPR/credit)>, <AccountModel: ASSETS - 1630: Equipment (ASSET_PPE_EQUIP/debit)>, <AccountModel: ASSETS - 1631: Less: Equipment Accumulated Depreciation (ASSET_PPE_EQUIP_ACCUM_DEPR/credit)>, <AccountModel: ASSETS - 1640: Vehicles (ASSET_PPE_PLANT/debit)>, <AccountModel: ASSETS - 1641: Less: Vehicles Accumulated Depreciation (ASSET_PPE_PLANT_DEPR/credit)>, <AccountModel: ASSETS - 1650: Furniture & Fixtures (ASSET_PPE_PLANT/debit)>, <AccountModel: ASSETS - 1651: Less: Furniture & Fixtures Accumulated Depreciation (ASSET_PPE_PLANT_DEPR/credit)>, <AccountModel: ASSETS - 1810: Goodwill (ASSET_IA/debit)>, '...(remaining elements truncated)...']>}"
      ]
     },
     "execution_count": 22,
     "metadata": {},
     "output_type": "execute_result"
    }
   ],
   "execution_count": 22
  },
  {
   "cell_type": "code",
   "metadata": {
    "collapsed": false,
    "ExecuteTime": {
     "end_time": "2024-08-22T18:50:01.440959Z",
     "start_time": "2024-08-22T18:50:01.435545Z"
    }
   },
   "source": [
    "pd.DataFrame(coa_map[default_coa_model])"
   ],
   "outputs": [
    {
     "data": {
      "text/plain": [
       "                                                    0\n",
       "0           ASSETS - 1010: Cash (ASSET_CA_CASH/debit)\n",
       "1   ASSETS - 1050: Short Term Investments (ASSET_C...\n",
       "2   ASSETS - 1100: Accounts Receivable (ASSET_CA_R...\n",
       "3   ASSETS - 1110: Uncollectibles (ASSET_CA_UNCOLL...\n",
       "4       ASSETS - 1200: Inventory (ASSET_CA_INV/debit)\n",
       "..                                                ...\n",
       "83          EQUITY - 6294: Garbage (EX_REGULAR/debit)\n",
       "84      EQUITY - 6295: Electricity (EX_REGULAR/debit)\n",
       "85  EQUITY - 6300: Property Management (EX_REGULAR...\n",
       "86          EQUITY - 6400: Vacancy (EX_REGULAR/debit)\n",
       "87      EQUITY - 6500: Misc. Expense (EX_OTHER/debit)\n",
       "\n",
       "[88 rows x 1 columns]"
      ],
      "text/html": [
       "<div>\n",
       "<style scoped>\n",
       "    .dataframe tbody tr th:only-of-type {\n",
       "        vertical-align: middle;\n",
       "    }\n",
       "\n",
       "    .dataframe tbody tr th {\n",
       "        vertical-align: top;\n",
       "    }\n",
       "\n",
       "    .dataframe thead th {\n",
       "        text-align: right;\n",
       "    }\n",
       "</style>\n",
       "<table border=\"1\" class=\"dataframe\">\n",
       "  <thead>\n",
       "    <tr style=\"text-align: right;\">\n",
       "      <th></th>\n",
       "      <th>0</th>\n",
       "    </tr>\n",
       "  </thead>\n",
       "  <tbody>\n",
       "    <tr>\n",
       "      <th>0</th>\n",
       "      <td>ASSETS - 1010: Cash (ASSET_CA_CASH/debit)</td>\n",
       "    </tr>\n",
       "    <tr>\n",
       "      <th>1</th>\n",
       "      <td>ASSETS - 1050: Short Term Investments (ASSET_C...</td>\n",
       "    </tr>\n",
       "    <tr>\n",
       "      <th>2</th>\n",
       "      <td>ASSETS - 1100: Accounts Receivable (ASSET_CA_R...</td>\n",
       "    </tr>\n",
       "    <tr>\n",
       "      <th>3</th>\n",
       "      <td>ASSETS - 1110: Uncollectibles (ASSET_CA_UNCOLL...</td>\n",
       "    </tr>\n",
       "    <tr>\n",
       "      <th>4</th>\n",
       "      <td>ASSETS - 1200: Inventory (ASSET_CA_INV/debit)</td>\n",
       "    </tr>\n",
       "    <tr>\n",
       "      <th>...</th>\n",
       "      <td>...</td>\n",
       "    </tr>\n",
       "    <tr>\n",
       "      <th>83</th>\n",
       "      <td>EQUITY - 6294: Garbage (EX_REGULAR/debit)</td>\n",
       "    </tr>\n",
       "    <tr>\n",
       "      <th>84</th>\n",
       "      <td>EQUITY - 6295: Electricity (EX_REGULAR/debit)</td>\n",
       "    </tr>\n",
       "    <tr>\n",
       "      <th>85</th>\n",
       "      <td>EQUITY - 6300: Property Management (EX_REGULAR...</td>\n",
       "    </tr>\n",
       "    <tr>\n",
       "      <th>86</th>\n",
       "      <td>EQUITY - 6400: Vacancy (EX_REGULAR/debit)</td>\n",
       "    </tr>\n",
       "    <tr>\n",
       "      <th>87</th>\n",
       "      <td>EQUITY - 6500: Misc. Expense (EX_OTHER/debit)</td>\n",
       "    </tr>\n",
       "  </tbody>\n",
       "</table>\n",
       "<p>88 rows × 1 columns</p>\n",
       "</div>"
      ]
     },
     "execution_count": 23,
     "metadata": {},
     "output_type": "execute_result"
    }
   ],
   "execution_count": 23
  },
  {
   "cell_type": "code",
   "metadata": {
    "collapsed": false,
    "ExecuteTime": {
     "end_time": "2024-08-22T18:50:01.561503Z",
     "start_time": "2024-08-22T18:50:01.557575Z"
    }
   },
   "source": [
    "pd.DataFrame(coa_map[another_coa_model])"
   ],
   "outputs": [
    {
     "data": {
      "text/plain": [
       "Empty DataFrame\n",
       "Columns: []\n",
       "Index: []"
      ],
      "text/html": [
       "<div>\n",
       "<style scoped>\n",
       "    .dataframe tbody tr th:only-of-type {\n",
       "        vertical-align: middle;\n",
       "    }\n",
       "\n",
       "    .dataframe tbody tr th {\n",
       "        vertical-align: top;\n",
       "    }\n",
       "\n",
       "    .dataframe thead th {\n",
       "        text-align: right;\n",
       "    }\n",
       "</style>\n",
       "<table border=\"1\" class=\"dataframe\">\n",
       "  <thead>\n",
       "    <tr style=\"text-align: right;\">\n",
       "      <th></th>\n",
       "    </tr>\n",
       "  </thead>\n",
       "  <tbody>\n",
       "  </tbody>\n",
       "</table>\n",
       "</div>"
      ]
     },
     "execution_count": 24,
     "metadata": {},
     "output_type": "execute_result"
    }
   ],
   "execution_count": 24
  },
  {
   "cell_type": "markdown",
   "metadata": {},
   "source": [
    "## Create Account Model\n",
    "- Creating AccountModel into empty \"another_coa_model\"..."
   ]
  },
  {
   "cell_type": "code",
   "metadata": {
    "tags": [],
    "ExecuteTime": {
     "end_time": "2024-08-22T18:50:01.615693Z",
     "start_time": "2024-08-22T18:50:01.609706Z"
    }
   },
   "source": [
    "account_model = entity_model.create_account(\n",
    "    coa_model=another_coa_model,\n",
    "    code='1220',\n",
    "    role=roles.ASSET_CA_INVENTORY,\n",
    "    name='A new account created from the EntityModel API!',\n",
    "    balance_type=roles.DEBIT,\n",
    "    active=True\n",
    ")"
   ],
   "outputs": [],
   "execution_count": 25
  },
  {
   "cell_type": "code",
   "metadata": {
    "tags": [],
    "ExecuteTime": {
     "end_time": "2024-08-22T18:50:01.695832Z",
     "start_time": "2024-08-22T18:50:01.693826Z"
    }
   },
   "source": [
    "account_model"
   ],
   "outputs": [
    {
     "data": {
      "text/plain": [
       "<AccountModel: ASSETS - 1220: A new account created from the EntityModel API! (ASSET_CA_INV/debit)>"
      ]
     },
     "execution_count": 26,
     "metadata": {},
     "output_type": "execute_result"
    }
   ],
   "execution_count": 26
  },
  {
   "cell_type": "code",
   "metadata": {
    "tags": [],
    "ExecuteTime": {
     "end_time": "2024-08-22T18:50:01.791679Z",
     "start_time": "2024-08-22T18:50:01.787626Z"
    }
   },
   "source": [
    "another_coa_accounts_qs = entity_model.get_coa_accounts(coa_model=another_coa_model)\n",
    "pd.DataFrame(another_coa_accounts_qs)"
   ],
   "outputs": [
    {
     "data": {
      "text/plain": [
       "                                                   0\n",
       "0  ASSETS - 1220: A new account created from the ..."
      ],
      "text/html": [
       "<div>\n",
       "<style scoped>\n",
       "    .dataframe tbody tr th:only-of-type {\n",
       "        vertical-align: middle;\n",
       "    }\n",
       "\n",
       "    .dataframe tbody tr th {\n",
       "        vertical-align: top;\n",
       "    }\n",
       "\n",
       "    .dataframe thead th {\n",
       "        text-align: right;\n",
       "    }\n",
       "</style>\n",
       "<table border=\"1\" class=\"dataframe\">\n",
       "  <thead>\n",
       "    <tr style=\"text-align: right;\">\n",
       "      <th></th>\n",
       "      <th>0</th>\n",
       "    </tr>\n",
       "  </thead>\n",
       "  <tbody>\n",
       "    <tr>\n",
       "      <th>0</th>\n",
       "      <td>ASSETS - 1220: A new account created from the ...</td>\n",
       "    </tr>\n",
       "  </tbody>\n",
       "</table>\n",
       "</div>"
      ]
     },
     "execution_count": 27,
     "metadata": {},
     "output_type": "execute_result"
    }
   ],
   "execution_count": 27
  },
  {
   "cell_type": "markdown",
   "metadata": {
    "collapsed": false
   },
   "source": [
    "# Basic Django Ledger Usage\n",
    "- The LedgerModel name is whatever your heart desires.\n",
    "- Examples:\n",
    "    - A month.\n",
    "    - A customer.\n",
    "    - A vendor.\n",
    "    - A project.\n",
    "- The more ledgers are created, the more segregation and control over transactions is possible."
   ]
  },
  {
   "cell_type": "code",
   "metadata": {
    "collapsed": false,
    "ExecuteTime": {
     "end_time": "2024-08-22T18:50:01.840661Z",
     "start_time": "2024-08-22T18:50:01.838130Z"
    }
   },
   "source": [
    "ledger_model = entity_model.create_ledger(\n",
    "    name='My October 2023 Ledger', \n",
    "    posted=True\n",
    ")"
   ],
   "outputs": [],
   "execution_count": 28
  },
  {
   "cell_type": "markdown",
   "metadata": {},
   "source": [
    "## Create a Library"
   ]
  },
  {
   "cell_type": "code",
   "metadata": {
    "ExecuteTime": {
     "end_time": "2024-08-22T18:50:01.885997Z",
     "start_time": "2024-08-22T18:50:01.883409Z"
    }
   },
   "source": [
    "from django_ledger.io.io_library import IOLibrary\n",
    "\n",
    "library = IOLibrary(name='djangocon-2024-library')"
   ],
   "outputs": [],
   "execution_count": 29
  },
  {
   "cell_type": "markdown",
   "metadata": {},
   "source": [
    "## Create and Register a BluePrint"
   ]
  },
  {
   "cell_type": "code",
   "metadata": {
    "ExecuteTime": {
     "end_time": "2024-08-22T18:50:01.919102Z",
     "start_time": "2024-08-22T18:50:01.916625Z"
    }
   },
   "source": [
    "from django_ledger.io.io_library import IOBluePrint\n",
    "\n",
    "@library.register\n",
    "def sale_blueprint(\n",
    "        sale_amount: Union[int, float, Decimal],\n",
    "        contribution_margin_percent: float,\n",
    "        description: Optional[str] = None\n",
    ") -> IOBluePrint:\n",
    "    blueprint = IOBluePrint()\n",
    "    cogs_amount = (1 - contribution_margin_percent) * sale_amount\n",
    "    blueprint.debit(account_code='1010', amount=sale_amount, description=description)\n",
    "    blueprint.credit(account_code='4010', amount=sale_amount, description=description)\n",
    "    blueprint.credit(account_code='1200', amount=cogs_amount, description=description)\n",
    "    blueprint.debit(account_code='5010', amount=cogs_amount, description=description)\n",
    "    return blueprint"
   ],
   "outputs": [],
   "execution_count": 30
  },
  {
   "cell_type": "markdown",
   "metadata": {},
   "source": [
    "## Get a Cursor"
   ]
  },
  {
   "cell_type": "code",
   "metadata": {
    "ExecuteTime": {
     "end_time": "2024-08-22T18:50:01.944394Z",
     "start_time": "2024-08-22T18:50:01.942412Z"
    }
   },
   "source": [
    "cursor = library.get_cursor(\n",
    "    entity_model=entity_model, \n",
    "    user_model=user_model\n",
    ")"
   ],
   "outputs": [],
   "execution_count": 31
  },
  {
   "cell_type": "markdown",
   "metadata": {},
   "source": "## Dispatch Instructions"
  },
  {
   "cell_type": "code",
   "metadata": {
    "ExecuteTime": {
     "end_time": "2024-08-22T18:50:01.955704Z",
     "start_time": "2024-08-22T18:50:01.952312Z"
    }
   },
   "source": [
    "# Option 1 - Use A Ledger Model\n",
    "cursor.dispatch('sale_blueprint',\n",
    "                ledger_model=ledger_model,\n",
    "                sale_amount=34.45,\n",
    "                contribution_margin_percent=0.13,\n",
    "                description='Order ID: 123')\n",
    "\n",
    "# Option 2- Create a New Ledger Model\n",
    "cursor.dispatch('sale_blueprint',\n",
    "                ledger_model='ledger-order-id-123',\n",
    "                sale_amount=90.43,\n",
    "                contribution_margin_percent=0.17,\n",
    "                description='Order ID: 123')"
   ],
   "outputs": [],
   "execution_count": 32
  },
  {
   "cell_type": "markdown",
   "metadata": {},
   "source": [
    "## Commit Your Instructions\n",
    "Not recommended to post both ledger and journal entries. Posted transactions will immediately hit the books.\n",
    "**result** contains resulting ledger models, journal entries and transactions fro the committed "
   ]
  },
  {
   "cell_type": "code",
   "metadata": {
    "ExecuteTime": {
     "end_time": "2024-08-22T18:50:02.001466Z",
     "start_time": "2024-08-22T18:50:01.980038Z"
    }
   },
   "source": [
    "stub = cursor.commit(\n",
    "    post_new_ledgers=True,\n",
    "    post_journal_entries=True,\n",
    "    je_timestamp=datetime(2023,12,2,12,10)\n",
    "    # je_timestamp='2023-12-02 12:10'\n",
    ")"
   ],
   "outputs": [],
   "execution_count": 33
  },
  {
   "cell_type": "markdown",
   "metadata": {
    "collapsed": false
   },
   "source": "### Get Financial Statement Report Data for Ledger Model"
  },
  {
   "cell_type": "markdown",
   "metadata": {
    "collapsed": false
   },
   "source": [
    "Balance Sheet"
   ]
  },
  {
   "cell_type": "code",
   "metadata": {
    "collapsed": false,
    "ExecuteTime": {
     "end_time": "2024-08-22T18:50:02.012104Z",
     "start_time": "2024-08-22T18:50:02.007969Z"
    }
   },
   "source": [
    "bs_data = ledger_model.digest_balance_sheet(\n",
    "    to_date=date(2023, 12, 31),\n",
    "    entity_slug=entity_model\n",
    ")\n",
    "\n",
    "bs_data.get_balance_sheet_data()"
   ],
   "outputs": [
    {
     "data": {
      "text/plain": [
       "{'assets': {'total_balance': Decimal('4.4800000000000'),\n",
       "  'is_block': True,\n",
       "  'roles': {'asset_ca_cash': {'accounts': [{'account_uuid': UUID('0b23c6fa-282f-491c-8bed-ff7726e0acbc'),\n",
       "      'unit_uuid': None,\n",
       "      'unit_name': None,\n",
       "      'activity': None,\n",
       "      'period_year': None,\n",
       "      'period_month': None,\n",
       "      'role_bs': 'assets',\n",
       "      'role': 'asset_ca_cash',\n",
       "      'code': '1010',\n",
       "      'name': 'Cash',\n",
       "      'balance_type': 'debit',\n",
       "      'tx_type': None,\n",
       "      'balance': Decimal('34.4500000000000'),\n",
       "      'balance_abs': Decimal('34.4500000000000')}],\n",
       "    'total_balance': Decimal('34.4500000000000'),\n",
       "    'role_name': 'Current Asset'},\n",
       "   'asset_ca_inv': {'accounts': [{'account_uuid': UUID('6072dfe6-5e0b-44b6-9ed1-0c7beb0ace86'),\n",
       "      'unit_uuid': None,\n",
       "      'unit_name': None,\n",
       "      'activity': None,\n",
       "      'period_year': None,\n",
       "      'period_month': None,\n",
       "      'role_bs': 'assets',\n",
       "      'role': 'asset_ca_inv',\n",
       "      'code': '1200',\n",
       "      'name': 'Inventory',\n",
       "      'balance_type': 'debit',\n",
       "      'tx_type': None,\n",
       "      'balance': Decimal('-29.9700000000000'),\n",
       "      'balance_abs': Decimal('29.9700000000000')}],\n",
       "    'total_balance': Decimal('-29.9700000000000'),\n",
       "    'role_name': 'Inventory'}}},\n",
       " 'equity_balance': Decimal('4.4800000000000'),\n",
       " 'retained_earnings_balance': Decimal('4.4800000000000'),\n",
       " 'liabilities_equity_balance': Decimal('4.4800000000000')}"
      ]
     },
     "execution_count": 34,
     "metadata": {},
     "output_type": "execute_result"
    }
   ],
   "execution_count": 34
  },
  {
   "cell_type": "markdown",
   "metadata": {
    "collapsed": false
   },
   "source": [
    "Income Statement"
   ]
  },
  {
   "cell_type": "code",
   "metadata": {
    "collapsed": false,
    "ExecuteTime": {
     "end_time": "2024-08-22T18:50:02.043498Z",
     "start_time": "2024-08-22T18:50:02.038704Z"
    }
   },
   "source": [
    "is_data = ledger_model.digest_income_statement(\n",
    "    from_date=date(2023, 1, 1),\n",
    "    to_date=date(2023, 12, 31),\n",
    "    entity_slug=entity_model\n",
    ")\n",
    "\n",
    "is_data.get_income_statement_data()"
   ],
   "outputs": [
    {
     "data": {
      "text/plain": [
       "{'operating': {'revenues': [{'account_uuid': UUID('5e35ef10-c45d-42ff-ac93-e416f0bcc317'),\n",
       "    'unit_uuid': None,\n",
       "    'unit_name': None,\n",
       "    'activity': None,\n",
       "    'period_year': None,\n",
       "    'period_month': None,\n",
       "    'role_bs': 'equity',\n",
       "    'role': 'in_operational',\n",
       "    'code': '4010',\n",
       "    'name': 'Sales Income',\n",
       "    'balance_type': 'credit',\n",
       "    'tx_type': None,\n",
       "    'balance': Decimal('34.4500000000000'),\n",
       "    'balance_abs': Decimal('34.4500000000000'),\n",
       "    'role_name': 'Operational Income'}],\n",
       "  'cogs': [{'account_uuid': UUID('ff8c7ad8-3ba9-4147-aef7-39d6fbad147c'),\n",
       "    'unit_uuid': None,\n",
       "    'unit_name': None,\n",
       "    'activity': None,\n",
       "    'period_year': None,\n",
       "    'period_month': None,\n",
       "    'role_bs': 'equity',\n",
       "    'role': 'cogs_regular',\n",
       "    'code': '5010',\n",
       "    'name': 'Cost of Goods Sold',\n",
       "    'balance_type': 'debit',\n",
       "    'tx_type': None,\n",
       "    'balance': Decimal('-29.9700000000000'),\n",
       "    'balance_abs': Decimal('29.9700000000000'),\n",
       "    'role_name': 'Cost of Goods Sold'}],\n",
       "  'expenses': [],\n",
       "  'gross_profit': Decimal('4.4800000000000'),\n",
       "  'net_operating_income': Decimal('4.4800000000000'),\n",
       "  'net_operating_revenue': Decimal('34.4500000000000'),\n",
       "  'net_cogs': Decimal('-29.9700000000000'),\n",
       "  'net_operating_expenses': 0},\n",
       " 'other': {'revenues': [],\n",
       "  'expenses': [],\n",
       "  'net_other_revenues': 0,\n",
       "  'net_other_expenses': 0,\n",
       "  'net_other_income': 0},\n",
       " 'net_income': Decimal('4.4800000000000')}"
      ]
     },
     "execution_count": 35,
     "metadata": {},
     "output_type": "execute_result"
    }
   ],
   "execution_count": 35
  },
  {
   "cell_type": "markdown",
   "metadata": {
    "collapsed": false
   },
   "source": [
    "Cash Flow Statement"
   ]
  },
  {
   "cell_type": "code",
   "metadata": {
    "collapsed": false,
    "ExecuteTime": {
     "end_time": "2024-08-22T18:50:02.091818Z",
     "start_time": "2024-08-22T18:50:02.086847Z"
    }
   },
   "source": [
    "cfs_data = ledger_model.digest_cash_flow_statement(\n",
    "    from_date=date(2023, 1, 1),\n",
    "    to_date=date(2023, 12, 31),\n",
    "    entity_slug=entity_model\n",
    ")\n",
    "\n",
    "cfs_data.get_cash_flow_statement_data()"
   ],
   "outputs": [
    {
     "data": {
      "text/plain": [
       "{'operating': {'GROUP_CFS_NET_INCOME': {'description': 'Net Income',\n",
       "   'balance': Decimal('4.4800000000000')},\n",
       "  'GROUP_CFS_OP_DEPRECIATION_AMORTIZATION': {'description': 'Depreciation & Amortization of Assets',\n",
       "   'balance': 0},\n",
       "  'GROUP_CFS_OP_INVESTMENT_GAINS': {'description': 'Gain/Loss Sale of Assets',\n",
       "   'balance': 0},\n",
       "  'GROUP_CFS_OP_ACCOUNTS_RECEIVABLE': {'description': 'Accounts Receivable',\n",
       "   'balance': 0},\n",
       "  'GROUP_CFS_OP_INVENTORY': {'description': 'Inventories',\n",
       "   'balance': Decimal('29.9700000000000')},\n",
       "  'GROUP_CFS_OP_ACCOUNTS_PAYABLE': {'description': 'Accounts Payable',\n",
       "   'balance': 0},\n",
       "  'GROUP_CFS_OP_OTHER_CURRENT_ASSETS_ADJUSTMENT': {'description': 'Other Current Assets',\n",
       "   'balance': 0},\n",
       "  'GROUP_CFS_OP_OTHER_CURRENT_LIABILITIES_ADJUSTMENT': {'description': 'Other Current Liabilities',\n",
       "   'balance': 0}},\n",
       " 'net_cash_by_activity': {'OPERATING': Decimal('34.4500000000000'),\n",
       "  'FINANCING': 0,\n",
       "  'INVESTING': 0},\n",
       " 'financing': {'GROUP_CFS_FIN_ISSUING_EQUITY': {'description': 'Common Stock, Preferred Stock and Capital Raised',\n",
       "   'balance': 0},\n",
       "  'GROUP_CFS_FIN_DIVIDENDS': {'description': 'Dividends Payed Out to Shareholders',\n",
       "   'balance': 0},\n",
       "  'GROUP_CFS_FIN_ST_DEBT_PAYMENTS': {'description': 'Increase/Reduction of Short-Term Debt Principal',\n",
       "   'balance': 0},\n",
       "  'GROUP_CFS_FIN_LT_DEBT_PAYMENTS': {'description': 'Increase/Reduction of Long-Term Debt Principal',\n",
       "   'balance': 0}},\n",
       " 'investing': {'GROUP_CFS_INVESTING_SECURITIES': {'description': 'Purchase, Maturity and Sales of Investments & Securities',\n",
       "   'balance': 0},\n",
       "  'GROUP_CFS_INVESTING_PPE': {'description': 'Addition and Disposition of Property, Plant & Equipment',\n",
       "   'balance': 0}},\n",
       " 'net_cash': Decimal('34.4500000000000')}"
      ]
     },
     "execution_count": 36,
     "metadata": {},
     "output_type": "execute_result"
    }
   ],
   "execution_count": 36
  },
  {
   "cell_type": "markdown",
   "metadata": {
    "collapsed": false
   },
   "source": [
    "All Statements in a Single Call"
   ]
  },
  {
   "cell_type": "code",
   "metadata": {
    "collapsed": false,
    "ExecuteTime": {
     "end_time": "2024-08-22T18:50:02.121283Z",
     "start_time": "2024-08-22T18:50:02.116871Z"
    }
   },
   "source": [
    "fin_digest = ledger_model.digest_financial_statements(\n",
    "    from_date=date(2023, 1, 1),\n",
    "    to_date=date(2023, 12, 31),\n",
    "    entity_slug=entity_model\n",
    ")\n",
    "\n",
    "statement_data = fin_digest.get_financial_statements_data()"
   ],
   "outputs": [],
   "execution_count": 37
  },
  {
   "cell_type": "code",
   "metadata": {
    "collapsed": false,
    "ExecuteTime": {
     "end_time": "2024-08-22T18:50:02.148903Z",
     "start_time": "2024-08-22T18:50:02.145965Z"
    }
   },
   "source": [
    "statement_data['balance_sheet']"
   ],
   "outputs": [
    {
     "data": {
      "text/plain": [
       "{'assets': {'total_balance': Decimal('4.4800000000000'),\n",
       "  'is_block': True,\n",
       "  'roles': {'asset_ca_cash': {'accounts': [{'account_uuid': UUID('0b23c6fa-282f-491c-8bed-ff7726e0acbc'),\n",
       "      'unit_uuid': None,\n",
       "      'unit_name': None,\n",
       "      'activity': 'op',\n",
       "      'period_year': None,\n",
       "      'period_month': None,\n",
       "      'role_bs': 'assets',\n",
       "      'role': 'asset_ca_cash',\n",
       "      'code': '1010',\n",
       "      'name': 'Cash',\n",
       "      'balance_type': 'debit',\n",
       "      'tx_type': None,\n",
       "      'balance': Decimal('34.4500000000000'),\n",
       "      'balance_abs': Decimal('34.4500000000000')}],\n",
       "    'total_balance': Decimal('34.4500000000000'),\n",
       "    'role_name': 'Current Asset'},\n",
       "   'asset_ca_inv': {'accounts': [{'account_uuid': UUID('6072dfe6-5e0b-44b6-9ed1-0c7beb0ace86'),\n",
       "      'unit_uuid': None,\n",
       "      'unit_name': None,\n",
       "      'activity': 'op',\n",
       "      'period_year': None,\n",
       "      'period_month': None,\n",
       "      'role_bs': 'assets',\n",
       "      'role': 'asset_ca_inv',\n",
       "      'code': '1200',\n",
       "      'name': 'Inventory',\n",
       "      'balance_type': 'debit',\n",
       "      'tx_type': None,\n",
       "      'balance': Decimal('-29.9700000000000'),\n",
       "      'balance_abs': Decimal('29.9700000000000')}],\n",
       "    'total_balance': Decimal('-29.9700000000000'),\n",
       "    'role_name': 'Inventory'}}},\n",
       " 'equity_balance': Decimal('4.4800000000000'),\n",
       " 'retained_earnings_balance': Decimal('4.4800000000000'),\n",
       " 'liabilities_equity_balance': Decimal('4.4800000000000')}"
      ]
     },
     "execution_count": 38,
     "metadata": {},
     "output_type": "execute_result"
    }
   ],
   "execution_count": 38
  },
  {
   "cell_type": "code",
   "metadata": {
    "collapsed": false,
    "ExecuteTime": {
     "end_time": "2024-08-22T18:50:02.174411Z",
     "start_time": "2024-08-22T18:50:02.171583Z"
    }
   },
   "source": [
    "statement_data['income_statement']"
   ],
   "outputs": [
    {
     "data": {
      "text/plain": [
       "{'operating': {'revenues': [{'account_uuid': UUID('5e35ef10-c45d-42ff-ac93-e416f0bcc317'),\n",
       "    'unit_uuid': None,\n",
       "    'unit_name': None,\n",
       "    'activity': 'op',\n",
       "    'period_year': None,\n",
       "    'period_month': None,\n",
       "    'role_bs': 'equity',\n",
       "    'role': 'in_operational',\n",
       "    'code': '4010',\n",
       "    'name': 'Sales Income',\n",
       "    'balance_type': 'credit',\n",
       "    'tx_type': None,\n",
       "    'balance': Decimal('34.4500000000000'),\n",
       "    'balance_abs': Decimal('34.4500000000000'),\n",
       "    'role_name': 'Operational Income'}],\n",
       "  'cogs': [{'account_uuid': UUID('ff8c7ad8-3ba9-4147-aef7-39d6fbad147c'),\n",
       "    'unit_uuid': None,\n",
       "    'unit_name': None,\n",
       "    'activity': 'op',\n",
       "    'period_year': None,\n",
       "    'period_month': None,\n",
       "    'role_bs': 'equity',\n",
       "    'role': 'cogs_regular',\n",
       "    'code': '5010',\n",
       "    'name': 'Cost of Goods Sold',\n",
       "    'balance_type': 'debit',\n",
       "    'tx_type': None,\n",
       "    'balance': Decimal('-29.9700000000000'),\n",
       "    'balance_abs': Decimal('29.9700000000000'),\n",
       "    'role_name': 'Cost of Goods Sold'}],\n",
       "  'expenses': [],\n",
       "  'gross_profit': Decimal('4.4800000000000'),\n",
       "  'net_operating_income': Decimal('4.4800000000000'),\n",
       "  'net_operating_revenue': Decimal('34.4500000000000'),\n",
       "  'net_cogs': Decimal('-29.9700000000000'),\n",
       "  'net_operating_expenses': 0},\n",
       " 'other': {'revenues': [],\n",
       "  'expenses': [],\n",
       "  'net_other_revenues': 0,\n",
       "  'net_other_expenses': 0,\n",
       "  'net_other_income': 0},\n",
       " 'net_income': Decimal('4.4800000000000')}"
      ]
     },
     "execution_count": 39,
     "metadata": {},
     "output_type": "execute_result"
    }
   ],
   "execution_count": 39
  },
  {
   "cell_type": "code",
   "metadata": {
    "collapsed": false,
    "ExecuteTime": {
     "end_time": "2024-08-22T18:50:02.205518Z",
     "start_time": "2024-08-22T18:50:02.202998Z"
    }
   },
   "source": [
    "statement_data['cash_flow_statement']"
   ],
   "outputs": [
    {
     "data": {
      "text/plain": [
       "{'operating': {'GROUP_CFS_NET_INCOME': {'description': 'Net Income',\n",
       "   'balance': Decimal('4.4800000000000')},\n",
       "  'GROUP_CFS_OP_DEPRECIATION_AMORTIZATION': {'description': 'Depreciation & Amortization of Assets',\n",
       "   'balance': 0},\n",
       "  'GROUP_CFS_OP_INVESTMENT_GAINS': {'description': 'Gain/Loss Sale of Assets',\n",
       "   'balance': 0},\n",
       "  'GROUP_CFS_OP_ACCOUNTS_RECEIVABLE': {'description': 'Accounts Receivable',\n",
       "   'balance': 0},\n",
       "  'GROUP_CFS_OP_INVENTORY': {'description': 'Inventories',\n",
       "   'balance': Decimal('29.9700000000000')},\n",
       "  'GROUP_CFS_OP_ACCOUNTS_PAYABLE': {'description': 'Accounts Payable',\n",
       "   'balance': 0},\n",
       "  'GROUP_CFS_OP_OTHER_CURRENT_ASSETS_ADJUSTMENT': {'description': 'Other Current Assets',\n",
       "   'balance': 0},\n",
       "  'GROUP_CFS_OP_OTHER_CURRENT_LIABILITIES_ADJUSTMENT': {'description': 'Other Current Liabilities',\n",
       "   'balance': 0}},\n",
       " 'net_cash_by_activity': {'OPERATING': Decimal('34.4500000000000'),\n",
       "  'FINANCING': 0,\n",
       "  'INVESTING': 0},\n",
       " 'financing': {'GROUP_CFS_FIN_ISSUING_EQUITY': {'description': 'Common Stock, Preferred Stock and Capital Raised',\n",
       "   'balance': 0},\n",
       "  'GROUP_CFS_FIN_DIVIDENDS': {'description': 'Dividends Payed Out to Shareholders',\n",
       "   'balance': 0},\n",
       "  'GROUP_CFS_FIN_ST_DEBT_PAYMENTS': {'description': 'Increase/Reduction of Short-Term Debt Principal',\n",
       "   'balance': 0},\n",
       "  'GROUP_CFS_FIN_LT_DEBT_PAYMENTS': {'description': 'Increase/Reduction of Long-Term Debt Principal',\n",
       "   'balance': 0}},\n",
       " 'investing': {'GROUP_CFS_INVESTING_SECURITIES': {'description': 'Purchase, Maturity and Sales of Investments & Securities',\n",
       "   'balance': 0},\n",
       "  'GROUP_CFS_INVESTING_PPE': {'description': 'Addition and Disposition of Property, Plant & Equipment',\n",
       "   'balance': 0}},\n",
       " 'net_cash': Decimal('34.4500000000000')}"
      ]
     },
     "execution_count": 40,
     "metadata": {},
     "output_type": "execute_result"
    }
   ],
   "execution_count": 40
  },
  {
   "cell_type": "markdown",
   "metadata": {},
   "source": [
    "# Financial Statement PDF Reports"
   ]
  },
  {
   "cell_type": "markdown",
   "metadata": {},
   "source": [
    "## Set Up\n",
    "- Must enable PDF support by installing dependencies via *pipenv*.\n",
    "    - pipenv install --categories pdf"
   ]
  },
  {
   "cell_type": "markdown",
   "metadata": {},
   "source": [
    "## Balance Sheet"
   ]
  },
  {
   "cell_type": "code",
   "metadata": {
    "ExecuteTime": {
     "end_time": "2024-08-22T18:50:02.267742Z",
     "start_time": "2024-08-22T18:50:02.240806Z"
    }
   },
   "source": [
    "bs_report = entity_model.get_balance_sheet_statement(\n",
    "    to_date=date(2022, 12, 31),\n",
    "    save_pdf=True,\n",
    "    filepath='./'\n",
    ")\n",
    "bs_data = bs_report.get_report_data()"
   ],
   "outputs": [],
   "execution_count": 41
  },
  {
   "metadata": {
    "ExecuteTime": {
     "end_time": "2024-08-22T18:50:02.276918Z",
     "start_time": "2024-08-22T18:50:02.273892Z"
    }
   },
   "cell_type": "code",
   "source": "bs_data",
   "outputs": [
    {
     "data": {
      "text/plain": [
       "{'assets': {'total_balance': Decimal('61031.44000000000'),\n",
       "  'is_block': True,\n",
       "  'roles': {'asset_ca_cash': {'accounts': [{'account_uuid': UUID('0b23c6fa-282f-491c-8bed-ff7726e0acbc'),\n",
       "      'unit_uuid': None,\n",
       "      'unit_name': None,\n",
       "      'activity': None,\n",
       "      'period_year': None,\n",
       "      'period_month': None,\n",
       "      'role_bs': 'assets',\n",
       "      'role': 'asset_ca_cash',\n",
       "      'code': '1010',\n",
       "      'name': 'Cash',\n",
       "      'balance_type': 'debit',\n",
       "      'tx_type': None,\n",
       "      'balance': Decimal('27763.4100000000'),\n",
       "      'balance_abs': Decimal('27763.4100000000')}],\n",
       "    'total_balance': Decimal('27763.4100000000'),\n",
       "    'role_name': 'Current Asset'},\n",
       "   'asset_ca_recv': {'accounts': [{'account_uuid': UUID('5538dff4-ba16-4435-9536-cdb4efa443ee'),\n",
       "      'unit_uuid': None,\n",
       "      'unit_name': None,\n",
       "      'activity': None,\n",
       "      'period_year': None,\n",
       "      'period_month': None,\n",
       "      'role_bs': 'assets',\n",
       "      'role': 'asset_ca_recv',\n",
       "      'code': '1100',\n",
       "      'name': 'Accounts Receivable',\n",
       "      'balance_type': 'debit',\n",
       "      'tx_type': None,\n",
       "      'balance': Decimal('10806.0700000000'),\n",
       "      'balance_abs': Decimal('10806.0700000000')}],\n",
       "    'total_balance': Decimal('10806.0700000000'),\n",
       "    'role_name': 'Receivables'},\n",
       "   'asset_ca_inv': {'accounts': [{'account_uuid': UUID('6072dfe6-5e0b-44b6-9ed1-0c7beb0ace86'),\n",
       "      'unit_uuid': None,\n",
       "      'unit_name': None,\n",
       "      'activity': None,\n",
       "      'period_year': None,\n",
       "      'period_month': None,\n",
       "      'role_bs': 'assets',\n",
       "      'role': 'asset_ca_inv',\n",
       "      'code': '1200',\n",
       "      'name': 'Inventory',\n",
       "      'balance_type': 'debit',\n",
       "      'tx_type': None,\n",
       "      'balance': Decimal('22461.96000000000'),\n",
       "      'balance_abs': Decimal('22461.96000000000')}],\n",
       "    'total_balance': Decimal('22461.96000000000'),\n",
       "    'role_name': 'Inventory'}}},\n",
       " 'liabilities': {'total_balance': Decimal('7943.7500000000'),\n",
       "  'is_block': True,\n",
       "  'roles': {'lia_cl_acc_payable': {'accounts': [{'account_uuid': UUID('33b4568e-261b-486a-9750-87c27dd81941'),\n",
       "      'unit_uuid': None,\n",
       "      'unit_name': None,\n",
       "      'activity': None,\n",
       "      'period_year': None,\n",
       "      'period_month': None,\n",
       "      'role_bs': 'liabilities',\n",
       "      'role': 'lia_cl_acc_payable',\n",
       "      'code': '2010',\n",
       "      'name': 'Accounts Payable',\n",
       "      'balance_type': 'credit',\n",
       "      'tx_type': None,\n",
       "      'balance': Decimal('7943.7500000000'),\n",
       "      'balance_abs': Decimal('7943.7500000000')}],\n",
       "    'total_balance': Decimal('7943.7500000000'),\n",
       "    'role_name': 'Accounts Payable'}}},\n",
       " 'equity': {'total_balance': Decimal('50000'),\n",
       "  'is_block': True,\n",
       "  'roles': {'eq_capital': {'accounts': [{'account_uuid': UUID('ae2ec78e-535f-4a17-919f-66d6a3b1d90c'),\n",
       "      'unit_uuid': None,\n",
       "      'unit_name': None,\n",
       "      'activity': None,\n",
       "      'period_year': None,\n",
       "      'period_month': None,\n",
       "      'role_bs': 'equity',\n",
       "      'role': 'eq_capital',\n",
       "      'code': '3010',\n",
       "      'name': 'Capital Account 1',\n",
       "      'balance_type': 'credit',\n",
       "      'tx_type': None,\n",
       "      'balance': Decimal('50000'),\n",
       "      'balance_abs': Decimal('50000')}],\n",
       "    'total_balance': Decimal('50000'),\n",
       "    'role_name': 'Capital'}}},\n",
       " 'equity_balance': Decimal('53087.690000000000'),\n",
       " 'retained_earnings_balance': Decimal('3087.690000000000'),\n",
       " 'liabilities_equity_balance': Decimal('61031.440000000000')}"
      ]
     },
     "execution_count": 42,
     "metadata": {},
     "output_type": "execute_result"
    }
   ],
   "execution_count": 42
  },
  {
   "cell_type": "markdown",
   "metadata": {},
   "source": [
    "### Balance Sheet Statement Raw Data"
   ]
  },
  {
   "cell_type": "code",
   "metadata": {
    "ExecuteTime": {
     "end_time": "2024-08-22T18:50:02.310526Z",
     "start_time": "2024-08-22T18:50:02.307204Z"
    }
   },
   "source": [
    "bs_report.get_report_data()"
   ],
   "outputs": [
    {
     "data": {
      "text/plain": [
       "{'assets': {'total_balance': Decimal('61031.44000000000'),\n",
       "  'is_block': True,\n",
       "  'roles': {'asset_ca_cash': {'accounts': [{'account_uuid': UUID('0b23c6fa-282f-491c-8bed-ff7726e0acbc'),\n",
       "      'unit_uuid': None,\n",
       "      'unit_name': None,\n",
       "      'activity': None,\n",
       "      'period_year': None,\n",
       "      'period_month': None,\n",
       "      'role_bs': 'assets',\n",
       "      'role': 'asset_ca_cash',\n",
       "      'code': '1010',\n",
       "      'name': 'Cash',\n",
       "      'balance_type': 'debit',\n",
       "      'tx_type': None,\n",
       "      'balance': Decimal('27763.4100000000'),\n",
       "      'balance_abs': Decimal('27763.4100000000')}],\n",
       "    'total_balance': Decimal('27763.4100000000'),\n",
       "    'role_name': 'Current Asset'},\n",
       "   'asset_ca_recv': {'accounts': [{'account_uuid': UUID('5538dff4-ba16-4435-9536-cdb4efa443ee'),\n",
       "      'unit_uuid': None,\n",
       "      'unit_name': None,\n",
       "      'activity': None,\n",
       "      'period_year': None,\n",
       "      'period_month': None,\n",
       "      'role_bs': 'assets',\n",
       "      'role': 'asset_ca_recv',\n",
       "      'code': '1100',\n",
       "      'name': 'Accounts Receivable',\n",
       "      'balance_type': 'debit',\n",
       "      'tx_type': None,\n",
       "      'balance': Decimal('10806.0700000000'),\n",
       "      'balance_abs': Decimal('10806.0700000000')}],\n",
       "    'total_balance': Decimal('10806.0700000000'),\n",
       "    'role_name': 'Receivables'},\n",
       "   'asset_ca_inv': {'accounts': [{'account_uuid': UUID('6072dfe6-5e0b-44b6-9ed1-0c7beb0ace86'),\n",
       "      'unit_uuid': None,\n",
       "      'unit_name': None,\n",
       "      'activity': None,\n",
       "      'period_year': None,\n",
       "      'period_month': None,\n",
       "      'role_bs': 'assets',\n",
       "      'role': 'asset_ca_inv',\n",
       "      'code': '1200',\n",
       "      'name': 'Inventory',\n",
       "      'balance_type': 'debit',\n",
       "      'tx_type': None,\n",
       "      'balance': Decimal('22461.96000000000'),\n",
       "      'balance_abs': Decimal('22461.96000000000')}],\n",
       "    'total_balance': Decimal('22461.96000000000'),\n",
       "    'role_name': 'Inventory'}}},\n",
       " 'liabilities': {'total_balance': Decimal('7943.7500000000'),\n",
       "  'is_block': True,\n",
       "  'roles': {'lia_cl_acc_payable': {'accounts': [{'account_uuid': UUID('33b4568e-261b-486a-9750-87c27dd81941'),\n",
       "      'unit_uuid': None,\n",
       "      'unit_name': None,\n",
       "      'activity': None,\n",
       "      'period_year': None,\n",
       "      'period_month': None,\n",
       "      'role_bs': 'liabilities',\n",
       "      'role': 'lia_cl_acc_payable',\n",
       "      'code': '2010',\n",
       "      'name': 'Accounts Payable',\n",
       "      'balance_type': 'credit',\n",
       "      'tx_type': None,\n",
       "      'balance': Decimal('7943.7500000000'),\n",
       "      'balance_abs': Decimal('7943.7500000000')}],\n",
       "    'total_balance': Decimal('7943.7500000000'),\n",
       "    'role_name': 'Accounts Payable'}}},\n",
       " 'equity': {'total_balance': Decimal('50000'),\n",
       "  'is_block': True,\n",
       "  'roles': {'eq_capital': {'accounts': [{'account_uuid': UUID('ae2ec78e-535f-4a17-919f-66d6a3b1d90c'),\n",
       "      'unit_uuid': None,\n",
       "      'unit_name': None,\n",
       "      'activity': None,\n",
       "      'period_year': None,\n",
       "      'period_month': None,\n",
       "      'role_bs': 'equity',\n",
       "      'role': 'eq_capital',\n",
       "      'code': '3010',\n",
       "      'name': 'Capital Account 1',\n",
       "      'balance_type': 'credit',\n",
       "      'tx_type': None,\n",
       "      'balance': Decimal('50000'),\n",
       "      'balance_abs': Decimal('50000')}],\n",
       "    'total_balance': Decimal('50000'),\n",
       "    'role_name': 'Capital'}}},\n",
       " 'equity_balance': Decimal('53087.690000000000'),\n",
       " 'retained_earnings_balance': Decimal('3087.690000000000'),\n",
       " 'liabilities_equity_balance': Decimal('61031.440000000000')}"
      ]
     },
     "execution_count": 43,
     "metadata": {},
     "output_type": "execute_result"
    }
   ],
   "execution_count": 43
  },
  {
   "cell_type": "markdown",
   "metadata": {},
   "source": [
    "## Income Statement"
   ]
  },
  {
   "cell_type": "code",
   "metadata": {
    "ExecuteTime": {
     "end_time": "2024-08-22T18:50:02.347061Z",
     "start_time": "2024-08-22T18:50:02.337177Z"
    }
   },
   "source": [
    "ic_report = entity_model.get_income_statement(\n",
    "    from_date=date(2022, 1, 1),\n",
    "    to_date=date(2022, 12, 31),\n",
    "    save_pdf=True,\n",
    "    filepath='./'\n",
    ")\n",
    "\n",
    "ic_data = ic_report.get_report_data()"
   ],
   "outputs": [],
   "execution_count": 44
  },
  {
   "cell_type": "markdown",
   "metadata": {},
   "source": [
    "### Income Statement Raw Data"
   ]
  },
  {
   "cell_type": "code",
   "metadata": {
    "scrolled": true,
    "ExecuteTime": {
     "end_time": "2024-08-22T18:50:02.362004Z",
     "start_time": "2024-08-22T18:50:02.358389Z"
    }
   },
   "source": "ic_data",
   "outputs": [
    {
     "data": {
      "text/plain": [
       "{'operating': {'revenues': [{'account_uuid': UUID('5e35ef10-c45d-42ff-ac93-e416f0bcc317'),\n",
       "    'unit_uuid': None,\n",
       "    'unit_name': None,\n",
       "    'activity': None,\n",
       "    'period_year': None,\n",
       "    'period_month': None,\n",
       "    'role_bs': 'equity',\n",
       "    'role': 'in_operational',\n",
       "    'code': '4010',\n",
       "    'name': 'Sales Income',\n",
       "    'balance_type': 'credit',\n",
       "    'tx_type': None,\n",
       "    'balance': Decimal('10806.0700000000'),\n",
       "    'balance_abs': Decimal('10806.0700000000'),\n",
       "    'role_name': 'Operational Income'}],\n",
       "  'cogs': [{'account_uuid': UUID('ff8c7ad8-3ba9-4147-aef7-39d6fbad147c'),\n",
       "    'unit_uuid': None,\n",
       "    'unit_name': None,\n",
       "    'activity': None,\n",
       "    'period_year': None,\n",
       "    'period_month': None,\n",
       "    'role_bs': 'equity',\n",
       "    'role': 'cogs_regular',\n",
       "    'code': '5010',\n",
       "    'name': 'Cost of Goods Sold',\n",
       "    'balance_type': 'debit',\n",
       "    'tx_type': None,\n",
       "    'balance': Decimal('-2606.96000000000'),\n",
       "    'balance_abs': Decimal('2606.96000000000'),\n",
       "    'role_name': 'Cost of Goods Sold'}],\n",
       "  'expenses': [{'account_uuid': UUID('195024c8-8c6e-4fac-b093-5defd958a6c6'),\n",
       "    'unit_uuid': None,\n",
       "    'unit_name': None,\n",
       "    'activity': None,\n",
       "    'period_year': None,\n",
       "    'period_month': None,\n",
       "    'role_bs': 'equity',\n",
       "    'role': 'ex_regular',\n",
       "    'code': '6300',\n",
       "    'name': 'Property Management',\n",
       "    'balance_type': 'debit',\n",
       "    'tx_type': None,\n",
       "    'balance': Decimal('-243.100000000000'),\n",
       "    'balance_abs': Decimal('243.100000000000'),\n",
       "    'role_name': 'Regular Expense'},\n",
       "   {'account_uuid': UUID('258612e5-9994-4177-a75e-4a848d489fe2'),\n",
       "    'unit_uuid': None,\n",
       "    'unit_name': None,\n",
       "    'activity': None,\n",
       "    'period_year': None,\n",
       "    'period_month': None,\n",
       "    'role_bs': 'equity',\n",
       "    'role': 'ex_regular',\n",
       "    'code': '6252',\n",
       "    'name': 'Repairs',\n",
       "    'balance_type': 'debit',\n",
       "    'tx_type': None,\n",
       "    'balance': Decimal('-1560.93000000000'),\n",
       "    'balance_abs': Decimal('1560.93000000000'),\n",
       "    'role_name': 'Regular Expense'},\n",
       "   {'account_uuid': UUID('42373675-0adc-44ef-9c86-a36b3460a503'),\n",
       "    'unit_uuid': None,\n",
       "    'unit_name': None,\n",
       "    'activity': None,\n",
       "    'period_year': None,\n",
       "    'period_month': None,\n",
       "    'role_bs': 'equity',\n",
       "    'role': 'ex_regular',\n",
       "    'code': '6400',\n",
       "    'name': 'Vacancy',\n",
       "    'balance_type': 'debit',\n",
       "    'tx_type': None,\n",
       "    'balance': Decimal('-371.860000000000'),\n",
       "    'balance_abs': Decimal('371.860000000000'),\n",
       "    'role_name': 'Regular Expense'},\n",
       "   {'account_uuid': UUID('471e000c-99c3-4a14-a371-b78673e0ca27'),\n",
       "    'unit_uuid': None,\n",
       "    'unit_name': None,\n",
       "    'activity': None,\n",
       "    'period_year': None,\n",
       "    'period_month': None,\n",
       "    'role_bs': 'equity',\n",
       "    'role': 'ex_regular',\n",
       "    'code': '6260',\n",
       "    'name': 'Salaries',\n",
       "    'balance_type': 'debit',\n",
       "    'tx_type': None,\n",
       "    'balance': Decimal('-210.220000000000'),\n",
       "    'balance_abs': Decimal('210.220000000000'),\n",
       "    'role_name': 'Regular Expense'},\n",
       "   {'account_uuid': UUID('87aedcc0-6d23-44da-875d-c5e578c13e46'),\n",
       "    'unit_uuid': None,\n",
       "    'unit_name': None,\n",
       "    'activity': None,\n",
       "    'period_year': None,\n",
       "    'period_month': None,\n",
       "    'role_bs': 'equity',\n",
       "    'role': 'ex_regular',\n",
       "    'code': '6253',\n",
       "    'name': 'HOA',\n",
       "    'balance_type': 'debit',\n",
       "    'tx_type': None,\n",
       "    'balance': Decimal('-827.470000000000'),\n",
       "    'balance_abs': Decimal('827.470000000000'),\n",
       "    'role_name': 'Regular Expense'},\n",
       "   {'account_uuid': UUID('91d99347-1114-42c1-986e-4cb382ccba28'),\n",
       "    'unit_uuid': None,\n",
       "    'unit_name': None,\n",
       "    'activity': None,\n",
       "    'period_year': None,\n",
       "    'period_month': None,\n",
       "    'role_bs': 'equity',\n",
       "    'role': 'ex_regular',\n",
       "    'code': '6255',\n",
       "    'name': 'Lawn Care',\n",
       "    'balance_type': 'debit',\n",
       "    'tx_type': None,\n",
       "    'balance': Decimal('-499.590000000000'),\n",
       "    'balance_abs': Decimal('499.590000000000'),\n",
       "    'role_name': 'Regular Expense'},\n",
       "   {'account_uuid': UUID('a15e8af3-b120-4075-a704-960110c5ecba'),\n",
       "    'unit_uuid': None,\n",
       "    'unit_name': None,\n",
       "    'activity': None,\n",
       "    'period_year': None,\n",
       "    'period_month': None,\n",
       "    'role_bs': 'equity',\n",
       "    'role': 'ex_regular',\n",
       "    'code': '6030',\n",
       "    'name': 'Auto Expense',\n",
       "    'balance_type': 'debit',\n",
       "    'tx_type': None,\n",
       "    'balance': Decimal('-284.230000000000'),\n",
       "    'balance_abs': Decimal('284.230000000000'),\n",
       "    'role_name': 'Regular Expense'},\n",
       "   {'account_uuid': UUID('a795eee0-ae9c-4d86-b498-0305638ab707'),\n",
       "    'unit_uuid': None,\n",
       "    'unit_name': None,\n",
       "    'activity': None,\n",
       "    'period_year': None,\n",
       "    'period_month': None,\n",
       "    'role_bs': 'equity',\n",
       "    'role': 'ex_regular',\n",
       "    'code': '6120',\n",
       "    'name': 'Insurance',\n",
       "    'balance_type': 'debit',\n",
       "    'tx_type': None,\n",
       "    'balance': Decimal('-619.450000000000'),\n",
       "    'balance_abs': Decimal('619.450000000000'),\n",
       "    'role_name': 'Regular Expense'},\n",
       "   {'account_uuid': UUID('b310e6df-f6e9-4a5f-a3d0-4f52ccf087b9'),\n",
       "    'unit_uuid': None,\n",
       "    'unit_name': None,\n",
       "    'activity': None,\n",
       "    'period_year': None,\n",
       "    'period_month': None,\n",
       "    'role_bs': 'equity',\n",
       "    'role': 'ex_regular',\n",
       "    'code': '6230',\n",
       "    'name': 'Postage',\n",
       "    'balance_type': 'debit',\n",
       "    'tx_type': None,\n",
       "    'balance': Decimal('-494.570000000000'),\n",
       "    'balance_abs': Decimal('494.570000000000'),\n",
       "    'role_name': 'Regular Expense'}],\n",
       "  'gross_profit': Decimal('8199.11000000000'),\n",
       "  'net_operating_income': Decimal('3087.690000000000'),\n",
       "  'net_operating_revenue': Decimal('10806.0700000000'),\n",
       "  'net_cogs': Decimal('-2606.96000000000'),\n",
       "  'net_operating_expenses': Decimal('-5111.420000000000')},\n",
       " 'other': {'revenues': [],\n",
       "  'expenses': [],\n",
       "  'net_other_revenues': 0,\n",
       "  'net_other_expenses': 0,\n",
       "  'net_other_income': 0},\n",
       " 'net_income': Decimal('3087.690000000000')}"
      ]
     },
     "execution_count": 45,
     "metadata": {},
     "output_type": "execute_result"
    }
   ],
   "execution_count": 45
  },
  {
   "cell_type": "markdown",
   "metadata": {},
   "source": [
    "## Cash Flow Statement"
   ]
  },
  {
   "cell_type": "code",
   "metadata": {
    "ExecuteTime": {
     "end_time": "2024-08-22T18:50:02.389001Z",
     "start_time": "2024-08-22T18:50:02.378441Z"
    }
   },
   "source": [
    "cf_report = entity_model.get_cash_flow_statement(\n",
    "    from_date=date(2022, 1, 1),\n",
    "    to_date=date(2022, 12, 31),\n",
    "    save_pdf=True,\n",
    "    filepath='./'\n",
    ")\n",
    "\n",
    "cf_data = cf_report.get_report_data()"
   ],
   "outputs": [],
   "execution_count": 46
  },
  {
   "cell_type": "markdown",
   "metadata": {},
   "source": [
    "### Cash Flow Statement Raw Data"
   ]
  },
  {
   "cell_type": "code",
   "metadata": {
    "ExecuteTime": {
     "end_time": "2024-08-22T18:50:02.400215Z",
     "start_time": "2024-08-22T18:50:02.397200Z"
    }
   },
   "source": "cf_data",
   "outputs": [
    {
     "data": {
      "text/plain": [
       "{'operating': {'GROUP_CFS_NET_INCOME': {'description': 'Net Income',\n",
       "   'balance': Decimal('3087.690000000000')},\n",
       "  'GROUP_CFS_OP_DEPRECIATION_AMORTIZATION': {'description': 'Depreciation & Amortization of Assets',\n",
       "   'balance': 0},\n",
       "  'GROUP_CFS_OP_INVESTMENT_GAINS': {'description': 'Gain/Loss Sale of Assets',\n",
       "   'balance': 0},\n",
       "  'GROUP_CFS_OP_ACCOUNTS_RECEIVABLE': {'description': 'Accounts Receivable',\n",
       "   'balance': Decimal('-10806.0700000000')},\n",
       "  'GROUP_CFS_OP_INVENTORY': {'description': 'Inventories',\n",
       "   'balance': Decimal('-22461.96000000000')},\n",
       "  'GROUP_CFS_OP_ACCOUNTS_PAYABLE': {'description': 'Accounts Payable',\n",
       "   'balance': Decimal('7943.7500000000')},\n",
       "  'GROUP_CFS_OP_OTHER_CURRENT_ASSETS_ADJUSTMENT': {'description': 'Other Current Assets',\n",
       "   'balance': 0},\n",
       "  'GROUP_CFS_OP_OTHER_CURRENT_LIABILITIES_ADJUSTMENT': {'description': 'Other Current Liabilities',\n",
       "   'balance': 0}},\n",
       " 'net_cash_by_activity': {'OPERATING': Decimal('-22236.590000000000'),\n",
       "  'FINANCING': Decimal('27763.4100000000'),\n",
       "  'INVESTING': 0},\n",
       " 'financing': {'GROUP_CFS_FIN_ISSUING_EQUITY': {'description': 'Common Stock, Preferred Stock and Capital Raised',\n",
       "   'balance': Decimal('50000')},\n",
       "  'GROUP_CFS_FIN_DIVIDENDS': {'description': 'Dividends Payed Out to Shareholders',\n",
       "   'balance': 0},\n",
       "  'GROUP_CFS_FIN_ST_DEBT_PAYMENTS': {'description': 'Increase/Reduction of Short-Term Debt Principal',\n",
       "   'balance': Decimal('-22236.5900000000')},\n",
       "  'GROUP_CFS_FIN_LT_DEBT_PAYMENTS': {'description': 'Increase/Reduction of Long-Term Debt Principal',\n",
       "   'balance': 0}},\n",
       " 'investing': {'GROUP_CFS_INVESTING_SECURITIES': {'description': 'Purchase, Maturity and Sales of Investments & Securities',\n",
       "   'balance': 0},\n",
       "  'GROUP_CFS_INVESTING_PPE': {'description': 'Addition and Disposition of Property, Plant & Equipment',\n",
       "   'balance': 0}},\n",
       " 'net_cash': Decimal('5526.820000000000')}"
      ]
     },
     "execution_count": 47,
     "metadata": {},
     "output_type": "execute_result"
    }
   ],
   "execution_count": 47
  },
  {
   "cell_type": "markdown",
   "metadata": {},
   "source": [
    "## All Financial Statements Data in a single Call"
   ]
  },
  {
   "cell_type": "code",
   "metadata": {
    "ExecuteTime": {
     "end_time": "2024-08-22T18:50:02.442277Z",
     "start_time": "2024-08-22T18:50:02.422658Z"
    }
   },
   "source": [
    "reports = entity_model.get_financial_statements(\n",
    "    user_model=user_model,\n",
    "    from_date=date(2022, 1, 1),\n",
    "    to_date=date(2022, 12, 31),\n",
    "    save_pdf=True,\n",
    "    filepath='./'\n",
    ")"
   ],
   "outputs": [],
   "execution_count": 48
  },
  {
   "cell_type": "code",
   "metadata": {
    "ExecuteTime": {
     "end_time": "2024-08-22T18:50:02.450168Z",
     "start_time": "2024-08-22T18:50:02.448211Z"
    }
   },
   "source": [
    "bs_data = reports.balance_sheet_statement.get_report_data()\n",
    "ic_data = reports.income_statement.get_report_data()\n",
    "cf_data = reports.cash_flow_statement.get_report_data()"
   ],
   "outputs": [],
   "execution_count": 49
  },
  {
   "cell_type": "code",
   "metadata": {
    "ExecuteTime": {
     "end_time": "2024-08-22T18:50:02.458580Z",
     "start_time": "2024-08-22T18:50:02.455678Z"
    }
   },
   "source": [
    "reports.income_statement.get_report_data()"
   ],
   "outputs": [
    {
     "data": {
      "text/plain": [
       "{'operating': {'revenues': [{'account_uuid': UUID('5e35ef10-c45d-42ff-ac93-e416f0bcc317'),\n",
       "    'unit_uuid': None,\n",
       "    'unit_name': None,\n",
       "    'activity': None,\n",
       "    'period_year': None,\n",
       "    'period_month': None,\n",
       "    'role_bs': 'equity',\n",
       "    'role': 'in_operational',\n",
       "    'code': '4010',\n",
       "    'name': 'Sales Income',\n",
       "    'balance_type': 'credit',\n",
       "    'tx_type': None,\n",
       "    'balance': Decimal('10806.0700000000'),\n",
       "    'balance_abs': Decimal('10806.0700000000'),\n",
       "    'role_name': 'Operational Income'}],\n",
       "  'cogs': [{'account_uuid': UUID('ff8c7ad8-3ba9-4147-aef7-39d6fbad147c'),\n",
       "    'unit_uuid': None,\n",
       "    'unit_name': None,\n",
       "    'activity': None,\n",
       "    'period_year': None,\n",
       "    'period_month': None,\n",
       "    'role_bs': 'equity',\n",
       "    'role': 'cogs_regular',\n",
       "    'code': '5010',\n",
       "    'name': 'Cost of Goods Sold',\n",
       "    'balance_type': 'debit',\n",
       "    'tx_type': None,\n",
       "    'balance': Decimal('-2606.96000000000'),\n",
       "    'balance_abs': Decimal('2606.96000000000'),\n",
       "    'role_name': 'Cost of Goods Sold'}],\n",
       "  'expenses': [{'account_uuid': UUID('195024c8-8c6e-4fac-b093-5defd958a6c6'),\n",
       "    'unit_uuid': None,\n",
       "    'unit_name': None,\n",
       "    'activity': None,\n",
       "    'period_year': None,\n",
       "    'period_month': None,\n",
       "    'role_bs': 'equity',\n",
       "    'role': 'ex_regular',\n",
       "    'code': '6300',\n",
       "    'name': 'Property Management',\n",
       "    'balance_type': 'debit',\n",
       "    'tx_type': None,\n",
       "    'balance': Decimal('-243.100000000000'),\n",
       "    'balance_abs': Decimal('243.100000000000'),\n",
       "    'role_name': 'Regular Expense'},\n",
       "   {'account_uuid': UUID('258612e5-9994-4177-a75e-4a848d489fe2'),\n",
       "    'unit_uuid': None,\n",
       "    'unit_name': None,\n",
       "    'activity': None,\n",
       "    'period_year': None,\n",
       "    'period_month': None,\n",
       "    'role_bs': 'equity',\n",
       "    'role': 'ex_regular',\n",
       "    'code': '6252',\n",
       "    'name': 'Repairs',\n",
       "    'balance_type': 'debit',\n",
       "    'tx_type': None,\n",
       "    'balance': Decimal('-1560.93000000000'),\n",
       "    'balance_abs': Decimal('1560.93000000000'),\n",
       "    'role_name': 'Regular Expense'},\n",
       "   {'account_uuid': UUID('42373675-0adc-44ef-9c86-a36b3460a503'),\n",
       "    'unit_uuid': None,\n",
       "    'unit_name': None,\n",
       "    'activity': None,\n",
       "    'period_year': None,\n",
       "    'period_month': None,\n",
       "    'role_bs': 'equity',\n",
       "    'role': 'ex_regular',\n",
       "    'code': '6400',\n",
       "    'name': 'Vacancy',\n",
       "    'balance_type': 'debit',\n",
       "    'tx_type': None,\n",
       "    'balance': Decimal('-371.860000000000'),\n",
       "    'balance_abs': Decimal('371.860000000000'),\n",
       "    'role_name': 'Regular Expense'},\n",
       "   {'account_uuid': UUID('471e000c-99c3-4a14-a371-b78673e0ca27'),\n",
       "    'unit_uuid': None,\n",
       "    'unit_name': None,\n",
       "    'activity': None,\n",
       "    'period_year': None,\n",
       "    'period_month': None,\n",
       "    'role_bs': 'equity',\n",
       "    'role': 'ex_regular',\n",
       "    'code': '6260',\n",
       "    'name': 'Salaries',\n",
       "    'balance_type': 'debit',\n",
       "    'tx_type': None,\n",
       "    'balance': Decimal('-210.220000000000'),\n",
       "    'balance_abs': Decimal('210.220000000000'),\n",
       "    'role_name': 'Regular Expense'},\n",
       "   {'account_uuid': UUID('87aedcc0-6d23-44da-875d-c5e578c13e46'),\n",
       "    'unit_uuid': None,\n",
       "    'unit_name': None,\n",
       "    'activity': None,\n",
       "    'period_year': None,\n",
       "    'period_month': None,\n",
       "    'role_bs': 'equity',\n",
       "    'role': 'ex_regular',\n",
       "    'code': '6253',\n",
       "    'name': 'HOA',\n",
       "    'balance_type': 'debit',\n",
       "    'tx_type': None,\n",
       "    'balance': Decimal('-827.470000000000'),\n",
       "    'balance_abs': Decimal('827.470000000000'),\n",
       "    'role_name': 'Regular Expense'},\n",
       "   {'account_uuid': UUID('91d99347-1114-42c1-986e-4cb382ccba28'),\n",
       "    'unit_uuid': None,\n",
       "    'unit_name': None,\n",
       "    'activity': None,\n",
       "    'period_year': None,\n",
       "    'period_month': None,\n",
       "    'role_bs': 'equity',\n",
       "    'role': 'ex_regular',\n",
       "    'code': '6255',\n",
       "    'name': 'Lawn Care',\n",
       "    'balance_type': 'debit',\n",
       "    'tx_type': None,\n",
       "    'balance': Decimal('-499.590000000000'),\n",
       "    'balance_abs': Decimal('499.590000000000'),\n",
       "    'role_name': 'Regular Expense'},\n",
       "   {'account_uuid': UUID('a15e8af3-b120-4075-a704-960110c5ecba'),\n",
       "    'unit_uuid': None,\n",
       "    'unit_name': None,\n",
       "    'activity': None,\n",
       "    'period_year': None,\n",
       "    'period_month': None,\n",
       "    'role_bs': 'equity',\n",
       "    'role': 'ex_regular',\n",
       "    'code': '6030',\n",
       "    'name': 'Auto Expense',\n",
       "    'balance_type': 'debit',\n",
       "    'tx_type': None,\n",
       "    'balance': Decimal('-284.230000000000'),\n",
       "    'balance_abs': Decimal('284.230000000000'),\n",
       "    'role_name': 'Regular Expense'},\n",
       "   {'account_uuid': UUID('a795eee0-ae9c-4d86-b498-0305638ab707'),\n",
       "    'unit_uuid': None,\n",
       "    'unit_name': None,\n",
       "    'activity': None,\n",
       "    'period_year': None,\n",
       "    'period_month': None,\n",
       "    'role_bs': 'equity',\n",
       "    'role': 'ex_regular',\n",
       "    'code': '6120',\n",
       "    'name': 'Insurance',\n",
       "    'balance_type': 'debit',\n",
       "    'tx_type': None,\n",
       "    'balance': Decimal('-619.450000000000'),\n",
       "    'balance_abs': Decimal('619.450000000000'),\n",
       "    'role_name': 'Regular Expense'},\n",
       "   {'account_uuid': UUID('b310e6df-f6e9-4a5f-a3d0-4f52ccf087b9'),\n",
       "    'unit_uuid': None,\n",
       "    'unit_name': None,\n",
       "    'activity': None,\n",
       "    'period_year': None,\n",
       "    'period_month': None,\n",
       "    'role_bs': 'equity',\n",
       "    'role': 'ex_regular',\n",
       "    'code': '6230',\n",
       "    'name': 'Postage',\n",
       "    'balance_type': 'debit',\n",
       "    'tx_type': None,\n",
       "    'balance': Decimal('-494.570000000000'),\n",
       "    'balance_abs': Decimal('494.570000000000'),\n",
       "    'role_name': 'Regular Expense'}],\n",
       "  'gross_profit': Decimal('8199.11000000000'),\n",
       "  'net_operating_income': Decimal('3087.690000000000'),\n",
       "  'net_operating_revenue': Decimal('10806.0700000000'),\n",
       "  'net_cogs': Decimal('-2606.96000000000'),\n",
       "  'net_operating_expenses': Decimal('-5111.420000000000')},\n",
       " 'other': {'revenues': [],\n",
       "  'expenses': [],\n",
       "  'net_other_revenues': 0,\n",
       "  'net_other_expenses': 0,\n",
       "  'net_other_income': 0},\n",
       " 'net_income': Decimal('3087.690000000000')}"
      ]
     },
     "execution_count": 50,
     "metadata": {},
     "output_type": "execute_result"
    }
   ],
   "execution_count": 50
  },
  {
   "cell_type": "code",
   "metadata": {
    "ExecuteTime": {
     "end_time": "2024-08-22T18:50:02.489848Z",
     "start_time": "2024-08-22T18:50:02.486558Z"
    }
   },
   "source": [
    "reports.cash_flow_statement.get_report_data()"
   ],
   "outputs": [
    {
     "data": {
      "text/plain": [
       "{'operating': {'GROUP_CFS_NET_INCOME': {'description': 'Net Income',\n",
       "   'balance': Decimal('3087.690000000000')},\n",
       "  'GROUP_CFS_OP_DEPRECIATION_AMORTIZATION': {'description': 'Depreciation & Amortization of Assets',\n",
       "   'balance': 0},\n",
       "  'GROUP_CFS_OP_INVESTMENT_GAINS': {'description': 'Gain/Loss Sale of Assets',\n",
       "   'balance': 0},\n",
       "  'GROUP_CFS_OP_ACCOUNTS_RECEIVABLE': {'description': 'Accounts Receivable',\n",
       "   'balance': Decimal('-10806.0700000000')},\n",
       "  'GROUP_CFS_OP_INVENTORY': {'description': 'Inventories',\n",
       "   'balance': Decimal('-22461.96000000000')},\n",
       "  'GROUP_CFS_OP_ACCOUNTS_PAYABLE': {'description': 'Accounts Payable',\n",
       "   'balance': Decimal('7943.7500000000')},\n",
       "  'GROUP_CFS_OP_OTHER_CURRENT_ASSETS_ADJUSTMENT': {'description': 'Other Current Assets',\n",
       "   'balance': 0},\n",
       "  'GROUP_CFS_OP_OTHER_CURRENT_LIABILITIES_ADJUSTMENT': {'description': 'Other Current Liabilities',\n",
       "   'balance': 0}},\n",
       " 'net_cash_by_activity': {'OPERATING': Decimal('-22236.590000000000'),\n",
       "  'FINANCING': Decimal('27763.4100000000'),\n",
       "  'INVESTING': 0},\n",
       " 'financing': {'GROUP_CFS_FIN_ISSUING_EQUITY': {'description': 'Common Stock, Preferred Stock and Capital Raised',\n",
       "   'balance': Decimal('50000')},\n",
       "  'GROUP_CFS_FIN_DIVIDENDS': {'description': 'Dividends Payed Out to Shareholders',\n",
       "   'balance': 0},\n",
       "  'GROUP_CFS_FIN_ST_DEBT_PAYMENTS': {'description': 'Increase/Reduction of Short-Term Debt Principal',\n",
       "   'balance': Decimal('-22236.5900000000')},\n",
       "  'GROUP_CFS_FIN_LT_DEBT_PAYMENTS': {'description': 'Increase/Reduction of Long-Term Debt Principal',\n",
       "   'balance': 0}},\n",
       " 'investing': {'GROUP_CFS_INVESTING_SECURITIES': {'description': 'Purchase, Maturity and Sales of Investments & Securities',\n",
       "   'balance': 0},\n",
       "  'GROUP_CFS_INVESTING_PPE': {'description': 'Addition and Disposition of Property, Plant & Equipment',\n",
       "   'balance': 0}},\n",
       " 'net_cash': Decimal('5526.820000000000')}"
      ]
     },
     "execution_count": 51,
     "metadata": {},
     "output_type": "execute_result"
    }
   ],
   "execution_count": 51
  },
  {
   "metadata": {},
   "cell_type": "markdown",
   "source": "# How To Extend the Ledger Model"
  },
  {
   "metadata": {
    "ExecuteTime": {
     "end_time": "2024-08-22T18:50:02.685864Z",
     "start_time": "2024-08-22T18:50:02.517625Z"
    }
   },
   "cell_type": "code",
   "source": [
    "from django.db import models\n",
    "from django_ledger.models import LedgerModel\n",
    "\n",
    "class EmployeeModel(LedgerModel):\n",
    "    \n",
    "    dob = models.DateField()\n",
    "    salary = models.DecimalField()\n",
    "    first_name = models.CharField(max_length=50)\n",
    "    last_name = models.CharField(max_length=50)\n",
    "        \n",
    "    def process_payroll(self, month):\n",
    "        raise NotImplementedError()\n",
    "    \n",
    "    def send_payroll_report(self, month):\n",
    "        raise NotImplementedError()"
   ],
   "outputs": [
    {
     "ename": "RuntimeError",
     "evalue": "Model class __main__.EmployeeModel doesn't declare an explicit app_label and isn't in an application in INSTALLED_APPS.",
     "output_type": "error",
     "traceback": [
      "\u001B[0;31m---------------------------------------------------------------------------\u001B[0m",
      "\u001B[0;31mRuntimeError\u001B[0m                              Traceback (most recent call last)",
      "Cell \u001B[0;32mIn[52], line 4\u001B[0m\n\u001B[1;32m      1\u001B[0m \u001B[38;5;28;01mfrom\u001B[39;00m \u001B[38;5;21;01mdjango\u001B[39;00m\u001B[38;5;21;01m.\u001B[39;00m\u001B[38;5;21;01mdb\u001B[39;00m \u001B[38;5;28;01mimport\u001B[39;00m models\n\u001B[1;32m      2\u001B[0m \u001B[38;5;28;01mfrom\u001B[39;00m \u001B[38;5;21;01mdjango_ledger\u001B[39;00m\u001B[38;5;21;01m.\u001B[39;00m\u001B[38;5;21;01mmodels\u001B[39;00m \u001B[38;5;28;01mimport\u001B[39;00m LedgerModel\n\u001B[0;32m----> 4\u001B[0m \u001B[38;5;28;43;01mclass\u001B[39;49;00m\u001B[43m \u001B[49m\u001B[38;5;21;43;01mEmployeeModel\u001B[39;49;00m\u001B[43m(\u001B[49m\u001B[43mLedgerModel\u001B[49m\u001B[43m)\u001B[49m\u001B[43m:\u001B[49m\n\u001B[1;32m      6\u001B[0m \u001B[43m    \u001B[49m\u001B[43mdob\u001B[49m\u001B[43m \u001B[49m\u001B[38;5;241;43m=\u001B[39;49m\u001B[43m \u001B[49m\u001B[43mmodels\u001B[49m\u001B[38;5;241;43m.\u001B[39;49m\u001B[43mDateField\u001B[49m\u001B[43m(\u001B[49m\u001B[43m)\u001B[49m\n\u001B[1;32m      7\u001B[0m \u001B[43m    \u001B[49m\u001B[43msalary\u001B[49m\u001B[43m \u001B[49m\u001B[38;5;241;43m=\u001B[39;49m\u001B[43m \u001B[49m\u001B[43mmodels\u001B[49m\u001B[38;5;241;43m.\u001B[39;49m\u001B[43mDecimalField\u001B[49m\u001B[43m(\u001B[49m\u001B[43m)\u001B[49m\n",
      "File \u001B[0;32m~/.local/share/virtualenvs/django-ledger-_-pJZtVO/lib/python3.11/site-packages/django/db/models/base.py:134\u001B[0m, in \u001B[0;36mModelBase.__new__\u001B[0;34m(cls, name, bases, attrs, **kwargs)\u001B[0m\n\u001B[1;32m    132\u001B[0m \u001B[38;5;28;01mif\u001B[39;00m app_config \u001B[38;5;129;01mis\u001B[39;00m \u001B[38;5;28;01mNone\u001B[39;00m:\n\u001B[1;32m    133\u001B[0m     \u001B[38;5;28;01mif\u001B[39;00m \u001B[38;5;129;01mnot\u001B[39;00m abstract:\n\u001B[0;32m--> 134\u001B[0m         \u001B[38;5;28;01mraise\u001B[39;00m \u001B[38;5;167;01mRuntimeError\u001B[39;00m(\n\u001B[1;32m    135\u001B[0m             \u001B[38;5;124m\"\u001B[39m\u001B[38;5;124mModel class \u001B[39m\u001B[38;5;132;01m%s\u001B[39;00m\u001B[38;5;124m.\u001B[39m\u001B[38;5;132;01m%s\u001B[39;00m\u001B[38;5;124m doesn\u001B[39m\u001B[38;5;124m'\u001B[39m\u001B[38;5;124mt declare an explicit \u001B[39m\u001B[38;5;124m\"\u001B[39m\n\u001B[1;32m    136\u001B[0m             \u001B[38;5;124m\"\u001B[39m\u001B[38;5;124mapp_label and isn\u001B[39m\u001B[38;5;124m'\u001B[39m\u001B[38;5;124mt in an application in \u001B[39m\u001B[38;5;124m\"\u001B[39m\n\u001B[1;32m    137\u001B[0m             \u001B[38;5;124m\"\u001B[39m\u001B[38;5;124mINSTALLED_APPS.\u001B[39m\u001B[38;5;124m\"\u001B[39m \u001B[38;5;241m%\u001B[39m (module, name)\n\u001B[1;32m    138\u001B[0m         )\n\u001B[1;32m    140\u001B[0m \u001B[38;5;28;01melse\u001B[39;00m:\n\u001B[1;32m    141\u001B[0m     app_label \u001B[38;5;241m=\u001B[39m app_config\u001B[38;5;241m.\u001B[39mlabel\n",
      "\u001B[0;31mRuntimeError\u001B[0m: Model class __main__.EmployeeModel doesn't declare an explicit app_label and isn't in an application in INSTALLED_APPS."
     ]
    }
   ],
   "execution_count": 52
  }
 ],
 "metadata": {
  "kernelspec": {
   "display_name": "Python 3 (ipykernel)",
   "language": "python",
   "name": "python3"
  },
  "language_info": {
   "codemirror_mode": {
    "name": "ipython",
    "version": 3
   },
   "file_extension": ".py",
   "mimetype": "text/x-python",
   "name": "python",
   "nbconvert_exporter": "python",
   "pygments_lexer": "ipython3",
   "version": "3.11.6"
  }
 },
 "nbformat": 4,
 "nbformat_minor": 4
}
